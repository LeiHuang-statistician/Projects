{
 "cells": [
  {
   "cell_type": "code",
   "execution_count": 1,
   "id": "34c4fb60",
   "metadata": {},
   "outputs": [],
   "source": [
    "import os\n",
    "os.chdir(\"C:\\\\Users\\lhuang\\PycharmProjects\\pyLearng\\Python Engineer\\Machine learning from scratch\")\n",
    "os.environ[\"OMP_NUM_THREADS\"] = '2'"
   ]
  },
  {
   "cell_type": "markdown",
   "id": "415f86fd",
   "metadata": {},
   "source": [
    "# K Means\n",
    "\n",
    "- Unsupervised learning (the data set is unlabeled). \n",
    "- Cluster samples into k different group\n",
    "\n",
    "## Iterative optimization\n",
    "- Randomly select k cluster center (centroids) <br>\n",
    "- Assign points to the nearest centroid (clustering)\n",
    "- Updated the centroids by set them to then mean of each cluster\n",
    "- Repeat above steps until converged \n",
    "    - previous centroids equal to updated centroids, meaning centroids not move anymore) \n",
    "    - or reach to maxinum number of iteration \n",
    "    \n",
    "<p align=\"center\">\n",
    "<img src=\"images/animated_kmeans.gif\" alt=\"animated_kmeans\" style=\"width:46%; border:0;\">\n",
    "</p>\n",
    " \n",
    "## Euclidean distance\n",
    "Get the distance between two points:\n",
    "    -point is a vector and could have more than 2 features\n",
    " $$d(p,q)= \\sqrt{\\sum(p_i-q_i)^2}$$ "
   ]
  },
  {
   "cell_type": "code",
   "execution_count": 2,
   "id": "324e1430",
   "metadata": {},
   "outputs": [],
   "source": [
    "import numpy as np\n",
    "from sklearn.model_selection import train_test_split\n",
    "from sklearn.datasets import make_blobs\n",
    "import matplotlib.pyplot as plt\n",
    "import seaborn as sns\n",
    "from scipy.spatial.distance import cdist\n",
    "import copy\n",
    "%matplotlib inline"
   ]
  },
  {
   "cell_type": "markdown",
   "id": "3add7da9",
   "metadata": {},
   "source": [
    "## Section 1: Single iteration example\n",
    "\n",
    "#### Step2: Get a dataset with 500 obervation and 3 features"
   ]
  },
  {
   "cell_type": "code",
   "execution_count": 3,
   "id": "6932131e",
   "metadata": {},
   "outputs": [
    {
     "name": "stdout",
     "output_type": "stream",
     "text": [
      "(500, 3)\n"
     ]
    }
   ],
   "source": [
    "X,_=make_blobs(centers=4, n_samples=500, n_features=3, shuffle=True, random_state=42)\n",
    "print(X.shape)\n"
   ]
  },
  {
   "cell_type": "markdown",
   "id": "8fea5d6e",
   "metadata": {},
   "source": [
    "#### Step2: Randomly select K centroids"
   ]
  },
  {
   "cell_type": "code",
   "execution_count": 43,
   "id": "63805c41",
   "metadata": {},
   "outputs": [
    {
     "name": "stdout",
     "output_type": "stream",
     "text": [
      "K:4\n",
      "random_sample_idxs:[398 254 495 102]\n"
     ]
    },
    {
     "data": {
      "text/plain": [
       "[array([  3.46854636, -10.30671738,  10.29312142]),\n",
       " array([-0.10022055, -7.22231479, -7.25155046]),\n",
       " array([ 5.15349391, -9.76326987,  8.64245188]),\n",
       " array([-1.54582149,  9.42706706,  5.461939  ])]"
      ]
     },
     "execution_count": 43,
     "metadata": {},
     "output_type": "execute_result"
    }
   ],
   "source": [
    "n_samples, n_features=X.shape\n",
    "K=4\n",
    "print(f\"K:{K}\")\n",
    "random_sample_idxs=np.random.choice(n_samples,K,replace=False)\n",
    "print(f\"random_sample_idxs:{random_sample_idxs}\")\n",
    "centroids=[X[idx] for idx in random_sample_idxs]\n",
    "centroids"
   ]
  },
  {
   "cell_type": "markdown",
   "id": "264da2f0",
   "metadata": {},
   "source": [
    "#### Step3: Find the closest centroid for each sample and allocate them into K cluster"
   ]
  },
  {
   "cell_type": "code",
   "execution_count": 44,
   "id": "a2ca84df",
   "metadata": {},
   "outputs": [],
   "source": [
    "# measure the distance \n",
    "def euclidean_distance(x1,x2):\n",
    "    return np.sqrt(np.sum((x1-x2)**2))"
   ]
  },
  {
   "cell_type": "code",
   "execution_count": 45,
   "id": "620256be",
   "metadata": {},
   "outputs": [
    {
     "name": "stdout",
     "output_type": "stream",
     "text": [
      "d0:1.6653284055079298, d1:16.987900318386632,d2:3.1248206836181605,d3:20.651815662015398\n"
     ]
    }
   ],
   "source": [
    "# An example\n",
    "x0=X[0]\n",
    "c0=centroids[0]\n",
    "d0=euclidean_distance(x0,c0)\n",
    "\n",
    "c1=centroids[1]\n",
    "d1=euclidean_distance(x0,c1)\n",
    "\n",
    "c2=centroids[2]\n",
    "d2=euclidean_distance(x0,c2)\n",
    "\n",
    "c3=centroids[3]\n",
    "d3=euclidean_distance(x0,c3)\n",
    "\n",
    "print (f\"d0:{d0}, d1:{d1},d2:{d2},d3:{d3}\" )"
   ]
  },
  {
   "cell_type": "code",
   "execution_count": 46,
   "id": "8b035cb3",
   "metadata": {},
   "outputs": [],
   "source": [
    "# find closest centroid \n",
    "def closest_centroid(sample, centroids):\n",
    "    distances=[euclidean_distance(sample,point) for point in centroids]\n",
    "    closest_idx=np.argmin(distances)\n",
    "    return closest_idx"
   ]
  },
  {
   "cell_type": "code",
   "execution_count": 47,
   "id": "8f31a824",
   "metadata": {},
   "outputs": [
    {
     "data": {
      "text/plain": [
       "0"
      ]
     },
     "execution_count": 47,
     "metadata": {},
     "output_type": "execute_result"
    }
   ],
   "source": [
    "# an example for X0\n",
    "closest_c_idx=closest_centroid(x0,centroids)\n",
    "closest_c_idx"
   ]
  },
  {
   "cell_type": "code",
   "execution_count": 48,
   "id": "7bd0b2b3",
   "metadata": {
    "scrolled": true
   },
   "outputs": [
    {
     "data": {
      "text/plain": [
       "[[0,\n",
       "  8,\n",
       "  19,\n",
       "  26,\n",
       "  28,\n",
       "  33,\n",
       "  44,\n",
       "  45,\n",
       "  52,\n",
       "  57,\n",
       "  63,\n",
       "  71,\n",
       "  88,\n",
       "  100,\n",
       "  113,\n",
       "  115,\n",
       "  134,\n",
       "  136,\n",
       "  140,\n",
       "  152,\n",
       "  163,\n",
       "  179,\n",
       "  194,\n",
       "  200,\n",
       "  203,\n",
       "  239,\n",
       "  248,\n",
       "  256,\n",
       "  272,\n",
       "  291,\n",
       "  300,\n",
       "  312,\n",
       "  314,\n",
       "  349,\n",
       "  352,\n",
       "  364,\n",
       "  374,\n",
       "  383,\n",
       "  385,\n",
       "  386,\n",
       "  392,\n",
       "  398,\n",
       "  400,\n",
       "  404,\n",
       "  419,\n",
       "  426,\n",
       "  427,\n",
       "  429,\n",
       "  433,\n",
       "  435,\n",
       "  448,\n",
       "  449,\n",
       "  452,\n",
       "  467,\n",
       "  482,\n",
       "  484],\n",
       " [2,\n",
       "  9,\n",
       "  14,\n",
       "  20,\n",
       "  21,\n",
       "  25,\n",
       "  27,\n",
       "  47,\n",
       "  49,\n",
       "  51,\n",
       "  55,\n",
       "  56,\n",
       "  58,\n",
       "  60,\n",
       "  61,\n",
       "  62,\n",
       "  69,\n",
       "  74,\n",
       "  76,\n",
       "  79,\n",
       "  87,\n",
       "  90,\n",
       "  96,\n",
       "  97,\n",
       "  104,\n",
       "  105,\n",
       "  106,\n",
       "  108,\n",
       "  112,\n",
       "  118,\n",
       "  121,\n",
       "  124,\n",
       "  125,\n",
       "  133,\n",
       "  138,\n",
       "  146,\n",
       "  148,\n",
       "  156,\n",
       "  157,\n",
       "  158,\n",
       "  169,\n",
       "  170,\n",
       "  173,\n",
       "  177,\n",
       "  178,\n",
       "  181,\n",
       "  182,\n",
       "  185,\n",
       "  189,\n",
       "  193,\n",
       "  196,\n",
       "  197,\n",
       "  198,\n",
       "  201,\n",
       "  202,\n",
       "  205,\n",
       "  206,\n",
       "  207,\n",
       "  209,\n",
       "  211,\n",
       "  212,\n",
       "  216,\n",
       "  217,\n",
       "  220,\n",
       "  229,\n",
       "  231,\n",
       "  233,\n",
       "  235,\n",
       "  237,\n",
       "  246,\n",
       "  251,\n",
       "  254,\n",
       "  258,\n",
       "  269,\n",
       "  271,\n",
       "  276,\n",
       "  281,\n",
       "  287,\n",
       "  297,\n",
       "  304,\n",
       "  306,\n",
       "  313,\n",
       "  321,\n",
       "  323,\n",
       "  337,\n",
       "  339,\n",
       "  356,\n",
       "  358,\n",
       "  363,\n",
       "  365,\n",
       "  366,\n",
       "  367,\n",
       "  368,\n",
       "  370,\n",
       "  371,\n",
       "  372,\n",
       "  373,\n",
       "  376,\n",
       "  377,\n",
       "  380,\n",
       "  384,\n",
       "  390,\n",
       "  391,\n",
       "  399,\n",
       "  401,\n",
       "  405,\n",
       "  407,\n",
       "  411,\n",
       "  414,\n",
       "  415,\n",
       "  421,\n",
       "  424,\n",
       "  425,\n",
       "  444,\n",
       "  456,\n",
       "  461,\n",
       "  470,\n",
       "  471,\n",
       "  473,\n",
       "  475,\n",
       "  487,\n",
       "  491,\n",
       "  493,\n",
       "  494,\n",
       "  497],\n",
       " [4,\n",
       "  22,\n",
       "  30,\n",
       "  43,\n",
       "  48,\n",
       "  53,\n",
       "  59,\n",
       "  68,\n",
       "  83,\n",
       "  94,\n",
       "  123,\n",
       "  126,\n",
       "  129,\n",
       "  130,\n",
       "  131,\n",
       "  132,\n",
       "  139,\n",
       "  145,\n",
       "  160,\n",
       "  168,\n",
       "  180,\n",
       "  186,\n",
       "  187,\n",
       "  190,\n",
       "  214,\n",
       "  218,\n",
       "  223,\n",
       "  225,\n",
       "  250,\n",
       "  257,\n",
       "  261,\n",
       "  262,\n",
       "  265,\n",
       "  267,\n",
       "  278,\n",
       "  290,\n",
       "  293,\n",
       "  298,\n",
       "  303,\n",
       "  316,\n",
       "  326,\n",
       "  333,\n",
       "  334,\n",
       "  343,\n",
       "  344,\n",
       "  351,\n",
       "  359,\n",
       "  361,\n",
       "  369,\n",
       "  382,\n",
       "  389,\n",
       "  393,\n",
       "  395,\n",
       "  422,\n",
       "  431,\n",
       "  439,\n",
       "  442,\n",
       "  443,\n",
       "  451,\n",
       "  459,\n",
       "  466,\n",
       "  468,\n",
       "  474,\n",
       "  479,\n",
       "  481,\n",
       "  488,\n",
       "  489,\n",
       "  495,\n",
       "  499],\n",
       " [1,\n",
       "  3,\n",
       "  5,\n",
       "  6,\n",
       "  7,\n",
       "  10,\n",
       "  11,\n",
       "  12,\n",
       "  13,\n",
       "  15,\n",
       "  16,\n",
       "  17,\n",
       "  18,\n",
       "  23,\n",
       "  24,\n",
       "  29,\n",
       "  31,\n",
       "  32,\n",
       "  34,\n",
       "  35,\n",
       "  36,\n",
       "  37,\n",
       "  38,\n",
       "  39,\n",
       "  40,\n",
       "  41,\n",
       "  42,\n",
       "  46,\n",
       "  50,\n",
       "  54,\n",
       "  64,\n",
       "  65,\n",
       "  66,\n",
       "  67,\n",
       "  70,\n",
       "  72,\n",
       "  73,\n",
       "  75,\n",
       "  77,\n",
       "  78,\n",
       "  80,\n",
       "  81,\n",
       "  82,\n",
       "  84,\n",
       "  85,\n",
       "  86,\n",
       "  89,\n",
       "  91,\n",
       "  92,\n",
       "  93,\n",
       "  95,\n",
       "  98,\n",
       "  99,\n",
       "  101,\n",
       "  102,\n",
       "  103,\n",
       "  107,\n",
       "  109,\n",
       "  110,\n",
       "  111,\n",
       "  114,\n",
       "  116,\n",
       "  117,\n",
       "  119,\n",
       "  120,\n",
       "  122,\n",
       "  127,\n",
       "  128,\n",
       "  135,\n",
       "  137,\n",
       "  141,\n",
       "  142,\n",
       "  143,\n",
       "  144,\n",
       "  147,\n",
       "  149,\n",
       "  150,\n",
       "  151,\n",
       "  153,\n",
       "  154,\n",
       "  155,\n",
       "  159,\n",
       "  161,\n",
       "  162,\n",
       "  164,\n",
       "  165,\n",
       "  166,\n",
       "  167,\n",
       "  171,\n",
       "  172,\n",
       "  174,\n",
       "  175,\n",
       "  176,\n",
       "  183,\n",
       "  184,\n",
       "  188,\n",
       "  191,\n",
       "  192,\n",
       "  195,\n",
       "  199,\n",
       "  204,\n",
       "  208,\n",
       "  210,\n",
       "  213,\n",
       "  215,\n",
       "  219,\n",
       "  221,\n",
       "  222,\n",
       "  224,\n",
       "  226,\n",
       "  227,\n",
       "  228,\n",
       "  230,\n",
       "  232,\n",
       "  234,\n",
       "  236,\n",
       "  238,\n",
       "  240,\n",
       "  241,\n",
       "  242,\n",
       "  243,\n",
       "  244,\n",
       "  245,\n",
       "  247,\n",
       "  249,\n",
       "  252,\n",
       "  253,\n",
       "  255,\n",
       "  259,\n",
       "  260,\n",
       "  263,\n",
       "  264,\n",
       "  266,\n",
       "  268,\n",
       "  270,\n",
       "  273,\n",
       "  274,\n",
       "  275,\n",
       "  277,\n",
       "  279,\n",
       "  280,\n",
       "  282,\n",
       "  283,\n",
       "  284,\n",
       "  285,\n",
       "  286,\n",
       "  288,\n",
       "  289,\n",
       "  292,\n",
       "  294,\n",
       "  295,\n",
       "  296,\n",
       "  299,\n",
       "  301,\n",
       "  302,\n",
       "  305,\n",
       "  307,\n",
       "  308,\n",
       "  309,\n",
       "  310,\n",
       "  311,\n",
       "  315,\n",
       "  317,\n",
       "  318,\n",
       "  319,\n",
       "  320,\n",
       "  322,\n",
       "  324,\n",
       "  325,\n",
       "  327,\n",
       "  328,\n",
       "  329,\n",
       "  330,\n",
       "  331,\n",
       "  332,\n",
       "  335,\n",
       "  336,\n",
       "  338,\n",
       "  340,\n",
       "  341,\n",
       "  342,\n",
       "  345,\n",
       "  346,\n",
       "  347,\n",
       "  348,\n",
       "  350,\n",
       "  353,\n",
       "  354,\n",
       "  355,\n",
       "  357,\n",
       "  360,\n",
       "  362,\n",
       "  375,\n",
       "  378,\n",
       "  379,\n",
       "  381,\n",
       "  387,\n",
       "  388,\n",
       "  394,\n",
       "  396,\n",
       "  397,\n",
       "  402,\n",
       "  403,\n",
       "  406,\n",
       "  408,\n",
       "  409,\n",
       "  410,\n",
       "  412,\n",
       "  413,\n",
       "  416,\n",
       "  417,\n",
       "  418,\n",
       "  420,\n",
       "  423,\n",
       "  428,\n",
       "  430,\n",
       "  432,\n",
       "  434,\n",
       "  436,\n",
       "  437,\n",
       "  438,\n",
       "  440,\n",
       "  441,\n",
       "  445,\n",
       "  446,\n",
       "  447,\n",
       "  450,\n",
       "  453,\n",
       "  454,\n",
       "  455,\n",
       "  457,\n",
       "  458,\n",
       "  460,\n",
       "  462,\n",
       "  463,\n",
       "  464,\n",
       "  465,\n",
       "  469,\n",
       "  472,\n",
       "  476,\n",
       "  477,\n",
       "  478,\n",
       "  480,\n",
       "  483,\n",
       "  485,\n",
       "  486,\n",
       "  490,\n",
       "  492,\n",
       "  496,\n",
       "  498]]"
      ]
     },
     "execution_count": 48,
     "metadata": {},
     "output_type": "execute_result"
    }
   ],
   "source": [
    "# find closest centroid for each sample and allocate them into each cluster\n",
    "clusters=[[] for _ in range(K)] \n",
    "#clusters=[[],[],[],[]]\n",
    "for idx,sample in enumerate(X):\n",
    "    centroid_idx=closest_centroid(sample,centroids)\n",
    "    clusters[centroid_idx].append(idx)\n",
    "\n",
    "clusters"
   ]
  },
  {
   "cell_type": "code",
   "execution_count": 50,
   "id": "5a0e0cef",
   "metadata": {},
   "outputs": [],
   "source": [
    "centroids_old=copy.deepcopy(centroids)"
   ]
  },
  {
   "cell_type": "code",
   "execution_count": 51,
   "id": "43546992",
   "metadata": {},
   "outputs": [
    {
     "name": "stdout",
     "output_type": "stream",
     "text": [
      "centroids_old:[array([ 3.56168159, -9.56623187,  9.98233095]), array([ 1.9249936 , -6.86055031, -7.00488888]), array([ 4.68158865, -9.16424593,  8.85078903]), array([-5.54471204,  8.25803225,  3.35729512])] \n",
      " updated centroids: [array([ 3.56168159, -9.56623187,  9.98233095]), array([ 1.9249936 , -6.86055031, -7.00488888]), array([ 4.68158865, -9.16424593,  8.85078903]), array([-5.54471204,  8.25803225,  3.35729512])]\n"
     ]
    }
   ],
   "source": [
    "#caculate means for each cluster and update centroids\n",
    "for cluster_idx, cluster in enumerate(clusters):\n",
    "    #print(f\"idx: {cluster_idx}\\ncluster:{cluster}\")\n",
    "    cluster_mean=np.mean(X[cluster],axis=0)\n",
    "    #print(f\"cluster{cluster_idx}:\\n{X[cluster]}\")\n",
    "    #print(f\"cluster{cluster_idx} mean:{cluster_mean}\")\n",
    "    centroids[cluster_idx]=cluster_mean\n",
    " \n",
    "print(f\"centroids_old:{centroids_old} \\n updated centroids: {centroids}\")"
   ]
  },
  {
   "cell_type": "code",
   "execution_count": 52,
   "id": "34b20662",
   "metadata": {},
   "outputs": [],
   "source": [
    "#Put above step into a fuction for updating centroid during iteration\n",
    "\n",
    "def get_centroids(clusters):\n",
    "    centroids=np.zeros((K, n_features))\n",
    "    for cluster_idx, cluster in enumerate(clusters):\n",
    "        #print(f\"idx: {cluster_idx}\\ncluster:{cluster}\")\n",
    "        cluster_mean=np.mean(X[cluster],axis=0)\n",
    "        centroids[cluster_idx]=cluster_mean\n",
    "    return centroids"
   ]
  },
  {
   "cell_type": "code",
   "execution_count": 53,
   "id": "8ecf8b2a",
   "metadata": {},
   "outputs": [
    {
     "data": {
      "text/plain": [
       "array([[ 3.56168159, -9.56623187,  9.98233095],\n",
       "       [ 1.9249936 , -6.86055031, -7.00488888],\n",
       "       [ 4.68158865, -9.16424593,  8.85078903],\n",
       "       [-5.54471204,  8.25803225,  3.35729512]])"
      ]
     },
     "execution_count": 53,
     "metadata": {},
     "output_type": "execute_result"
    }
   ],
   "source": [
    "centroids=get_centroids(clusters)\n",
    "centroids"
   ]
  },
  {
   "cell_type": "markdown",
   "id": "54b7879a",
   "metadata": {},
   "source": [
    "## Section2: Iteration Optimization\n",
    "\n",
    "### Step1: Get optimized centroids and clusters through iterations"
   ]
  },
  {
   "cell_type": "code",
   "execution_count": 16,
   "id": "238dc764",
   "metadata": {},
   "outputs": [
    {
     "data": {
      "text/plain": [
       "array([[ 1.08258724, -1.13513086,  1.17788353],\n",
       "       [-1.48586001,  0.88526754, -0.00261707],\n",
       "       [-0.22942578,  1.08576022,  0.36488915],\n",
       "       [ 0.63269854, -0.8358969 , -1.54015561]])"
      ]
     },
     "execution_count": 16,
     "metadata": {},
     "output_type": "execute_result"
    }
   ],
   "source": [
    "from sklearn.preprocessing import StandardScaler\n",
    "X,_=make_blobs(centers=4, n_samples=500, n_features=3, shuffle=True, random_state=42)\n",
    "#scaler = StandardScaler()\n",
    "#X = scaler.fit_transform(X)\n",
    "\n",
    "K=4\n",
    "random_sample_idxs=np.random.choice(n_samples,K,replace=False)\n",
    "centroids=[X[idx] for idx in random_sample_idxs]\n",
    "\n",
    "for _ in range(300):\n",
    "    #update clusters\n",
    "    clusters=[[] for _ in range(K)] \n",
    "    for idx,sample in enumerate(X):\n",
    "        centroid_idx=closest_centroid(sample,centroids)\n",
    "        clusters[centroid_idx].append(idx)\n",
    "\n",
    "    #update centroids\n",
    "    centroids_old=copy.deepcopy(centroids)\n",
    "    centroids=get_centroids(clusters)\n",
    "\n",
    "    #check if converged\n",
    "    distances=[euclidean_distance(centroids_old[i],centroids[i]) for i in range(K)]\n",
    "    if round(sum(distances),1)==0:\n",
    "        break\n",
    "centroids"
   ]
  },
  {
   "cell_type": "markdown",
   "id": "d3599d8e",
   "metadata": {},
   "source": [
    "### Step2: Get labels (cluster index) for each sample"
   ]
  },
  {
   "cell_type": "code",
   "execution_count": 17,
   "id": "60804115",
   "metadata": {},
   "outputs": [
    {
     "data": {
      "text/plain": [
       "(500,)"
      ]
     },
     "execution_count": 17,
     "metadata": {},
     "output_type": "execute_result"
    }
   ],
   "source": [
    "labels=np.empty(n_samples, dtype='int')\n",
    "for cluster_idx, cluster in enumerate(clusters):\n",
    "    #print(f\"cluster idx:{cluster_idx}\")\n",
    "    for sample_idx in cluster:\n",
    "        #print(f\"sample_idx:{sample_idx}\")\n",
    "        labels[sample_idx]=cluster_idx\n",
    "        \n",
    "labels.shape"
   ]
  },
  {
   "cell_type": "code",
   "execution_count": 18,
   "id": "e7dc3abe",
   "metadata": {},
   "outputs": [
    {
     "data": {
      "image/png": "[encoded data removed]",
      "text/plain": [
       "<Figure size 432x288 with 1 Axes>"
      ]
     },
     "metadata": {
      "needs_background": "light"
     },
     "output_type": "display_data"
    }
   ],
   "source": [
    "#2D plot\n",
    "\n",
    "sns.scatterplot(data=X, x=X[:,0], y=X[:,1], hue=labels)\n",
    "plt.scatter(centroids[:,0], centroids[:,1], \n",
    "            marker=\"X\", c=\"r\", s=80, label=\"centroids\")\n",
    "plt.legend()\n",
    "plt.show()"
   ]
  },
  {
   "cell_type": "markdown",
   "id": "3e16c33f",
   "metadata": {},
   "source": [
    "##  Section3: Elbow method to select optimal K\n",
    "#### Distortion\n",
    "- Elbow compare Distortion value for each K selected\n",
    "- Distortion is calculated as the average of the squared distances from centroid of the respective clusters to each data point. Typically, the Euclidean distance metric is used.\n",
    "\n",
    "$$ Distortion=\\dfrac{1}{n}*\\sum(distance(point_c,centroid_c)^2)$$\n",
    "\n",
    "$$ Inertia=\\sum(distance(point_c,centroid_c)^2)$$"
   ]
  },
  {
   "cell_type": "code",
   "execution_count": 32,
   "id": "9a0e21b4",
   "metadata": {},
   "outputs": [],
   "source": [
    "# calulate distortion for K from 1 to 10\n",
    "\n",
    "X,_=make_blobs(centers=4, n_samples=500, n_features=3, shuffle=True, random_state=42)\n",
    "n_samples, n_features=X.shape\n",
    "distortions=[]\n",
    "Klist = range(1, 10)\n",
    "for K in range(1,10):\n",
    "    np.random.seed(0)\n",
    "    random_sample_idxs=np.random.choice(n_samples,K,replace=False)\n",
    "    centroids=[X[idx] for idx in random_sample_idxs]\n",
    "\n",
    "\n",
    "    for _ in range(300):\n",
    "        #update clusters\n",
    "        clusters=[[] for _ in range(K)] \n",
    "        for idx,sample in enumerate(X):\n",
    "            centroid_idx=closest_centroid(sample,centroids)\n",
    "            clusters[centroid_idx].append(idx)\n",
    "        # print(\"clusters\")\n",
    "        #update centroids\n",
    "        centroids_old=centroids\n",
    "        centroids=get_centroids(clusters)\n",
    "        # print(\"new centroids\")\n",
    "        # print(centroids)\n",
    "\n",
    "\n",
    "        #check if converged\n",
    "        distances=[euclidean_distance(centroids_old[i],centroids[i]) for i in range(K)]\n",
    "        if round(sum(distances),2)==0:\n",
    "            break\n",
    "\n",
    "    dis=[(euclidean_distance(X[clusters[i]],centroids[i]))**2 for i in range(K)]\n",
    "\n",
    "    distortions.append(sum(dis)/X.shape[0])"
   ]
  },
  {
   "cell_type": "code",
   "execution_count": 33,
   "id": "274f972c",
   "metadata": {},
   "outputs": [
    {
     "data": {
      "text/plain": [
       "[130.25932835146008,\n",
       " 82.20534194713692,\n",
       " 8.802683089173629,\n",
       " 2.887591812097177,\n",
       " 2.6991633136177193,\n",
       " 2.5312403335229297,\n",
       " 2.4062473922542154,\n",
       " 2.234553225506337,\n",
       " 2.124513657646762]"
      ]
     },
     "execution_count": 33,
     "metadata": {},
     "output_type": "execute_result"
    }
   ],
   "source": [
    "distortions"
   ]
  },
  {
   "cell_type": "code",
   "execution_count": 21,
   "id": "fc5f9ec5",
   "metadata": {},
   "outputs": [
    {
     "data": {
      "image/png": "[encoded data removed]",
      "text/plain": [
       "<Figure size 432x288 with 1 Axes>"
      ]
     },
     "metadata": {
      "needs_background": "light"
     },
     "output_type": "display_data"
    }
   ],
   "source": [
    "plt.plot(Klist, distortions, 'bx-')\n",
    "plt.scatter(Klist, distortions, marker=\"X\", c=\"b\", s=80)\n",
    "plt.xlabel('Values of K')\n",
    "plt.ylabel('Distortion')\n",
    "plt.title('The Elbow Method using Distortion')\n",
    "plt.show()"
   ]
  },
  {
   "cell_type": "markdown",
   "id": "d304b950",
   "metadata": {},
   "source": [
    "## Section4: Create a class/package"
   ]
  },
  {
   "cell_type": "code",
   "execution_count": 22,
   "id": "b5b26a9c",
   "metadata": {},
   "outputs": [],
   "source": [
    "\n",
    "def euclidean_distance(x1,x2):\n",
    "    return np.sqrt(np.sum((x1-x2)**2))\n",
    "\n",
    "class CKMeans:\n",
    "    \n",
    "    def __init__(self, K=5, max_iters=100,plot_steps=False):\n",
    "        self.K=K\n",
    "        self.max_iters=max_iters\n",
    "        self.plot_steps=plot_steps\n",
    "        \n",
    "        # list of sample indices for each cluster\n",
    "        self.clusters=[[] for _ in range(self.K)]\n",
    "        \n",
    "        #mean feature vestor for each cluster\n",
    "        self.centroids=[]\n",
    "    \n",
    "    def predict(self, X):\n",
    "        self.X=X\n",
    "        self.n_samples, self.n_features=X.shape\n",
    "        \n",
    "        #initialize centroids\n",
    "        random_sample_idxs=np.random.choice(self.n_samples,self.K,replace=False)\n",
    "        self.centroids=[self.X[idx] for idx in random_sample_idxs]\n",
    "        # print(\"centroids\")\n",
    "        # print(self.centroids)\n",
    "        #opzimation\n",
    "        for _ in range(self.max_iters):\n",
    "            #update clusters\n",
    "            self.clusters=self._create_clusters(self.centroids)\n",
    "\n",
    "            #update centroids\n",
    "            centroids_old=self.centroids\n",
    "            self.centroids=self._get_centroids(self.clusters)\n",
    "  \n",
    "            \n",
    "            #check if converged\n",
    "            if self._is_converged(centroids_old, self.centroids):\n",
    "                break\n",
    "        #retrun cluster labels\n",
    "        lx=self._get_cluster_labels(self.clusters)\n",
    "        #print(f\"label:{lx}\")\n",
    "        return self._get_cluster_labels(self.clusters)\n",
    "            \n",
    "            \n",
    "    def _get_cluster_labels(self, clusters):\n",
    "        labels=np.empty(self.n_samples, dtype='int')\n",
    "        for cluster_idx, cluster in enumerate(clusters):\n",
    "            for sample_idx in cluster:\n",
    "                labels[sample_idx]=cluster_idx\n",
    "        return labels\n",
    "\n",
    "        \n",
    "                \n",
    "    def _create_clusters(self,centroids):\n",
    "        clusters=[[] for _ in range(self.K)]\n",
    "        for idx,sample in enumerate(self.X):\n",
    "            centroid_idx=self._closest_centroid(sample,centroids)\n",
    "            clusters[centroid_idx].append(idx)\n",
    "        return clusters\n",
    "    \n",
    "    def _closest_centroid(self, sample, centroids):\n",
    "        distances=[euclidean_distance(sample,point) for point in centroids]\n",
    "        closest_idx=np.argmin(distances)\n",
    "        return closest_idx\n",
    "    \n",
    "    def _get_centroids(self, clusters):\n",
    "        centroids=np.zeros((self.K, self.n_features))\n",
    "        for cluster_idx, cluster in enumerate(clusters):\n",
    "            #print(f\"idx: {cluster_idx}\\ncluster:{cluster}\")\n",
    "            cluster_mean=np.mean(self.X[cluster],axis=0)\n",
    "            centroids[cluster_idx]=cluster_mean\n",
    "        return centroids\n",
    "            \n",
    "    def _is_converged(self, centroids_old, centroids):\n",
    "        distances=[euclidean_distance(centroids_old[i],centroids[i]) for i in range(self.K)]\n",
    "        return round(sum(distances),1)==0\n",
    "    \n",
    "    \n",
    "\n",
    "    "
   ]
  },
  {
   "cell_type": "code",
   "execution_count": 23,
   "id": "65efe0e9",
   "metadata": {},
   "outputs": [
    {
     "name": "stdout",
     "output_type": "stream",
     "text": [
      "(500, 3)\n"
     ]
    }
   ],
   "source": [
    "\n",
    "X,_=make_blobs(centers=4, n_samples=500, n_features=3, shuffle=True, random_state=42)\n",
    "print(X.shape)"
   ]
  },
  {
   "cell_type": "code",
   "execution_count": 30,
   "id": "89ed2c1a",
   "metadata": {},
   "outputs": [
    {
     "name": "stdout",
     "output_type": "stream",
     "text": [
      "centroid:[[ 1.08258724 -1.13513086  1.17788353]\n",
      " [-0.22942578  1.08576022  0.36488915]\n",
      " [-1.48586001  0.88526754 -0.00261707]\n",
      " [ 0.63269854 -0.8358969  -1.54015561]]\n"
     ]
    },
    {
     "data": {
      "image/png": "[encoded data removed]",
      "text/plain": [
       "<Figure size 576x396 with 1 Axes>"
      ]
     },
     "metadata": {},
     "output_type": "display_data"
    }
   ],
   "source": [
    "# clusters=len(np.unique(y))\n",
    "# print(clusters)\n",
    "\n",
    "k=CKMeans(K=4, max_iters=300, plot_steps=False)\n",
    "y_pred=k.predict(X)\n",
    "print(f\"centroid:{k.centroids}\")\n",
    "sns.scatterplot(data=X, x=X[:,0], y=X[:,1], hue=y_pred)\n",
    "plt.scatter(k.centroids[:,0], k.centroids[:,1], \n",
    "            marker=\"X\", c=\"r\", s=80, label=\"centroids\")\n",
    "plt.legend()\n",
    "plt.show()\n"
   ]
  },
  {
   "cell_type": "markdown",
   "id": "5d443f55",
   "metadata": {},
   "source": [
    "## Section 5: Use python package Sklearn for modeling"
   ]
  },
  {
   "cell_type": "code",
   "execution_count": 34,
   "id": "24b9ee54",
   "metadata": {},
   "outputs": [],
   "source": [
    "from sklearn.cluster import KMeans\n",
    "from yellowbrick.cluster import KElbowVisualizer\n",
    "from collections import Counter\n",
    "from sklearn.preprocessing import StandardScaler\n",
    "X,y=make_blobs(centers=4, n_samples=500, n_features=3, shuffle=True, random_state=42)\n",
    "#Suggest to normalize X to dealt with varying size and density\n",
    "#scaler = StandardScaler()\n",
    "#X = scaler.fit_transform(X)"
   ]
  },
  {
   "cell_type": "code",
   "execution_count": 35,
   "id": "6d54e756",
   "metadata": {},
   "outputs": [
    {
     "name": "stdout",
     "output_type": "stream",
     "text": [
      "centroid:[[-8.69338443  7.4259396   2.2511005 ]\n",
      " [ 4.17987029 -9.34433563  9.35771981]\n",
      " [ 1.9249936  -6.86055031 -7.00488888]\n",
      " [-2.39603965  9.09012491  4.46348974]]\n",
      "inertia:1443.7959060485882\n"
     ]
    },
    {
     "data": {
      "image/png": "[encoded data removed]",
      "text/plain": [
       "<Figure size 576x396 with 1 Axes>"
      ]
     },
     "metadata": {},
     "output_type": "display_data"
    }
   ],
   "source": [
    "kmeans = KMeans(n_clusters=4, init='k-means++', random_state=1).fit(X)\n",
    "\n",
    "print(f\"centroid:{kmeans.cluster_centers_}\")\n",
    "\n",
    "print(f\"inertia:{kmeans.inertia_}\")\n",
    "\n",
    "sns.scatterplot(data=X, x=X[:,0], y=X[:,1], hue=kmeans.labels_)\n",
    "plt.scatter(kmeans.cluster_centers_[:,0], kmeans.cluster_centers_[:,1], \n",
    "            marker=\"X\", c=\"r\", s=80, label=\"centroids\")\n",
    "plt.legend()\n",
    "plt.show()"
   ]
  },
  {
   "cell_type": "code",
   "execution_count": 36,
   "id": "f6531f7c",
   "metadata": {},
   "outputs": [
    {
     "data": {
      "image/png": "[encoded data removed]",
      "text/plain": [
       "<Figure size 576x396 with 2 Axes>"
      ]
     },
     "metadata": {},
     "output_type": "display_data"
    },
    {
     "data": {
      "text/plain": [
       "<AxesSubplot:title={'center':'Distortion Score Elbow for KMeans Clustering'}, xlabel='k', ylabel='distortion score'>"
      ]
     },
     "execution_count": 36,
     "metadata": {},
     "output_type": "execute_result"
    }
   ],
   "source": [
    "model = KMeans()\n",
    "visualizer = KElbowVisualizer(model, k=(1,12)).fit(X)\n",
    "visualizer.show()"
   ]
  },
  {
   "cell_type": "markdown",
   "id": "5b662384",
   "metadata": {},
   "source": [
    "## Section 6:  Advantages and Disadvantages\n",
    "\n",
    "### Advantages:\n",
    "    - Simple to implement\n",
    "    - Guarantees convergence\n",
    "    - Can be applied to large scale data\n",
    "    - No training data needed\n",
    "### Disadvantages\n",
    "    - Sensitive to outliers\n",
    "    - Not applicable to categorical data\n",
    "        -K-mode for categorical dataset\n",
    "        -k-Prototypes for mixture of numerical and categorical data\n",
    "    - Curse of dimensionality:As number of features increases, the distance beween points decrease, so the k-means become less effective to distinguish points\n",
    "    - To solver the problem above, adding a pre-clustering step, such as PCA or spectral clustering"
   ]
  }
 ],
 "metadata": {
  "kernelspec": {
   "display_name": "Python 3 (ipykernel)",
   "language": "python",
   "name": "python3"
  },
  "language_info": {
   "codemirror_mode": {
    "name": "ipython",
    "version": 3
   },
   "file_extension": ".py",
   "mimetype": "text/x-python",
   "name": "python",
   "nbconvert_exporter": "python",
   "pygments_lexer": "ipython3",
   "version": "3.9.12"
  }
 },
 "nbformat": 4,
 "nbformat_minor": 5
}
