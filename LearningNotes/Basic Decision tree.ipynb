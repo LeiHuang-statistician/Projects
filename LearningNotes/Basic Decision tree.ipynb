{
 "cells": [
  {
   "cell_type": "code",
   "execution_count": 1,
   "metadata": {},
   "outputs": [],
   "source": [
    "import os\n",
    "os.chdir('C://Users/Doudou/python learning/Python Engineer/Machine learning from scratch')\n",
    "\n",
    "import numpy as np\n",
    "from sklearn.datasets import make_classification\n",
    "from sklearn.model_selection import train_test_split\n",
    "from sklearn.metrics import accuracy_score\n",
    "from sklearn.datasets import load_iris\n",
    "\n",
    "\n",
    "from collections import Counter\n",
    "import pydot\n",
    "import graphviz"
   ]
  },
  {
   "cell_type": "markdown",
   "metadata": {},
   "source": [
    "### Decision tree regressor\n",
    "- Outcome is continuous\n",
    "- split criteria: MSE\n",
    "\n",
    "### Decision tree classifier\n",
    "- Outcome is categorical\n",
    "- split criteria: Gini or information gain (caculated by Entropy)\n",
    "\n",
    "### This learning note will introduce decision tree classifier"
   ]
  },
  {
   "cell_type": "markdown",
   "metadata": {},
   "source": [
    "### Algorithm \n",
    "\n",
    "#### Two methods to select best split criteria for root node\n",
    "\n",
    "##### Gini impurity (CART)\n",
    "\n",
    "$Gini=1-\\sum_{n=0}^{j}P(i)^2$\n",
    "\n",
    "![SNOWFALL](impurity_png.png) \n",
    "                         \n",
    "\n",
    "\n",
    "Gini for left node:$1-((\\dfrac{105}{105+39})^2+(\\dfrac{39}{105+39})^2)$=0.395\n",
    "\n",
    "Gini for right node:$1-((\\dfrac{34}{34+125})^2+(\\dfrac{125}{34+125})^2)$=0.336\n",
    "\n",
    "Gini for parent node(Chest Pain): weighted averge of Gini for the children nodes\n",
    "\n",
    "$=(\\dfrac{144}{144+159})*0.395+(\\dfrac{159}{144+159})*0.336)=0.364$\n",
    "\n",
    "The less the Gini index is, the better criteria to split the parent node. Range from 0 to 0.5.\n",
    "\n",
    "#####  Entropy and Infomation gain (ID3)\n",
    "\n",
    "Entropy: $-\\sum_{n=0}^{j}P(i)*(log_2(P(i))$\n",
    "\n",
    "Entropy for parent nodes: $-((\\dfrac{144}{144+159}*log_2(\\dfrac{144}{144+159})+(\\dfrac{159}{144+159}*log_2(\\dfrac{159}{144+159}))=1.0$\n",
    "\n",
    "Entropy for left nodes: $-((\\dfrac{105}{105+39}*log_2(\\dfrac{105}{105+39})+(\\dfrac{39}{105+39}*log_2(\\dfrac{39}{105+39}))=0.84$\n",
    "\n",
    "Entropy for right nodes: $-((\\dfrac{34}{34+125}*log_2(\\dfrac{34}{34+125})+(\\dfrac{125}{34+125}*log_2(\\dfrac{125}{34+125}))=0.75$\n",
    "\n",
    "Average child entropy: $(\\dfrac{144}{144+159})*0.84+(\\dfrac{159}{144+159})*0.75)=0.79$\n",
    "\n",
    "Infomation gain: $Parent Entropy-Average child entropy=1.0-0.79=0.21$\n",
    "\n",
    "The greater the information gain, the better criteria to split the parent node. Range from 0 to 1.\n",
    "\n",
    "<font size='1'>Plot source from https://pandulaofficial.medium.com/implementing-cart-algorithm-from-scratch-in-python-5dd00e9d36e</font>\n"
   ]
  },
  {
   "cell_type": "markdown",
   "metadata": {},
   "source": [
    "## Prepare the dataset "
   ]
  },
  {
   "cell_type": "code",
   "execution_count": 2,
   "metadata": {},
   "outputs": [
    {
     "name": "stdout",
     "output_type": "stream",
     "text": [
      "(120, 4)\n",
      "[0 1 2]\n",
      "[41 37 42]\n"
     ]
    }
   ],
   "source": [
    "data = load_iris()\n",
    "DataX=data.data\n",
    "Datay=data.target\n",
    "X_train, X_test, y_train,y_test=train_test_split(DataX,Datay, test_size=0.2,random_state=1234)\n",
    "classes, counts = np.unique(y_train, return_counts=True)\n",
    "print(X_train.shape)\n",
    "print(classes)\n",
    "print(counts)"
   ]
  },
  {
   "cell_type": "code",
   "execution_count": 3,
   "metadata": {},
   "outputs": [
    {
     "data": {
      "text/plain": [
       "array([[5.1, 2.5, 3. , 1.1],\n",
       "       [6.2, 2.8, 4.8, 1.8],\n",
       "       [5. , 3.5, 1.3, 0.3],\n",
       "       [6.3, 2.8, 5.1, 1.5],\n",
       "       [6.7, 3. , 5. , 1.7],\n",
       "       [4.8, 3.4, 1.9, 0.2],\n",
       "       [4.4, 2.9, 1.4, 0.2],\n",
       "       [5.4, 3.4, 1.7, 0.2],\n",
       "       [4.6, 3.6, 1. , 0.2],\n",
       "       [5. , 2.3, 3.3, 1. ]])"
      ]
     },
     "execution_count": 3,
     "metadata": {},
     "output_type": "execute_result"
    }
   ],
   "source": [
    "X_train[:10]"
   ]
  },
  {
   "cell_type": "markdown",
   "metadata": {},
   "source": [
    "### An example of gini caculation"
   ]
  },
  {
   "cell_type": "code",
   "execution_count": 4,
   "metadata": {},
   "outputs": [
    {
     "name": "stdout",
     "output_type": "stream",
     "text": [
      "probabilities:[0.34166667 0.30833333 0.35      ]\n",
      "gini:0.6656944444444444\n"
     ]
    }
   ],
   "source": [
    "X=X_train\n",
    "y=y_train\n",
    "classes, counts = np.unique(y, return_counts=True)\n",
    "probabilities = counts / len(y)\n",
    "gini=1 - np.sum(probabilities ** 2)\n",
    "print(f\"probabilities:{probabilities}\")\n",
    "print(f\"gini:{gini}\")"
   ]
  },
  {
   "cell_type": "code",
   "execution_count": 5,
   "metadata": {},
   "outputs": [],
   "source": [
    "def gini_impurity(y):\n",
    "    classes, counts = np.unique(y, return_counts=True)\n",
    "    probabilities = counts / len(y)\n",
    "    gini = 1 - np.sum(probabilities ** 2)\n",
    "    return gini"
   ]
  },
  {
   "cell_type": "code",
   "execution_count": 6,
   "metadata": {},
   "outputs": [
    {
     "name": "stdout",
     "output_type": "stream",
     "text": [
      "0.6656944444444444\n"
     ]
    }
   ],
   "source": [
    "gini=gini_impurity(y)\n",
    "print(gini)"
   ]
  },
  {
   "cell_type": "markdown",
   "metadata": {},
   "source": [
    "### A split"
   ]
  },
  {
   "cell_type": "code",
   "execution_count": 7,
   "metadata": {},
   "outputs": [
    {
     "name": "stdout",
     "output_type": "stream",
     "text": [
      "gini:0.5073415412676698\n"
     ]
    }
   ],
   "source": [
    "n_samples, n_features = X.shape\n",
    "feature=0\n",
    "threshold=5.1\n",
    "left_mask = X[:, feature] <=threshold\n",
    "right_mask = ~left_mask\n",
    "left_y=y[left_mask]\n",
    "right_y=y[right_mask]\n",
    "left_gini=gini_impurity(left_y)\n",
    "right_gini=gini_impurity(right_y)\n",
    "gini=(np.sum(left_mask)*left_gini+np.sum(right_mask)*right_gini)/n_samples\n",
    "print(f\"gini:{gini}\")"
   ]
  },
  {
   "cell_type": "code",
   "execution_count": 8,
   "metadata": {},
   "outputs": [
    {
     "name": "stdout",
     "output_type": "stream",
     "text": [
      "gini:0.5073415412676698\n"
     ]
    }
   ],
   "source": [
    "gini = (np.sum(left_mask) * gini_impurity(y[left_mask]) +\n",
    "          np.sum(right_mask) * gini_impurity(y[right_mask])) / n_samples\n",
    "print(f\"gini:{gini}\")"
   ]
  },
  {
   "cell_type": "markdown",
   "metadata": {},
   "source": [
    "### Greedy search for best split"
   ]
  },
  {
   "cell_type": "code",
   "execution_count": 9,
   "metadata": {},
   "outputs": [
    {
     "name": "stdout",
     "output_type": "stream",
     "text": [
      "5.4\n"
     ]
    }
   ],
   "source": [
    "n_samples, n_features = X.shape\n",
    "thresholds = np.unique(X[:, feature])\n",
    "best_gini = float('inf')\n",
    "best_feature = None\n",
    "best_threshold = None\n",
    "for threshold in thresholds:\n",
    "    left_mask = X[:, feature] <= threshold\n",
    "    right_mask = ~left_mask\n",
    "\n",
    "    gini = (np.sum(left_mask) * gini_impurity(y[left_mask]) +\n",
    "            np.sum(right_mask) * gini_impurity(y[right_mask])) / n_samples\n",
    "    if gini < best_gini:\n",
    "        best_gini = gini\n",
    "        best_feature = feature\n",
    "        best_threshold = threshold\n",
    "\n",
    "print(best_threshold)"
   ]
  },
  {
   "cell_type": "code",
   "execution_count": 10,
   "metadata": {},
   "outputs": [
    {
     "name": "stdout",
     "output_type": "stream",
     "text": [
      "best_feature:2\n",
      "best_threshold:1.9\n"
     ]
    }
   ],
   "source": [
    "for feature in range(n_features):\n",
    "    thresholds = np.unique(X[:, feature])\n",
    "\n",
    "    for threshold in thresholds:\n",
    "        left_mask = X[:, feature] <= threshold\n",
    "        right_mask = ~left_mask\n",
    "\n",
    "        gini = (np.sum(left_mask) * gini_impurity(y[left_mask]) +\n",
    "                np.sum(right_mask) * gini_impurity(y[right_mask])) / n_samples\n",
    "\n",
    "        if gini < best_gini:\n",
    "            best_gini = gini\n",
    "            best_feature = feature\n",
    "            best_threshold = threshold\n",
    "print(f\"best_feature:{best_feature}\")\n",
    "print(f\"best_threshold:{best_threshold}\")"
   ]
  },
  {
   "cell_type": "code",
   "execution_count": 11,
   "metadata": {},
   "outputs": [],
   "source": [
    "def best_split(X, y):\n",
    "        n_samples, n_features = X.shape\n",
    "        unique_classes = np.unique(y)\n",
    "\n",
    "        best_gini = float('inf')\n",
    "        best_feature = None\n",
    "        best_threshold = None\n",
    "\n",
    "        for feature in range(n_features):\n",
    "            thresholds = np.unique(X[:, feature])\n",
    "\n",
    "            for threshold in thresholds:\n",
    "                left_mask = X[:, feature] <= threshold\n",
    "                right_mask = ~left_mask\n",
    "\n",
    "                gini = (np.sum(left_mask) * gini_impurity(y[left_mask]) +\n",
    "                        np.sum(right_mask) * gini_impurity(y[right_mask])) / n_samples\n",
    "                \n",
    "                if gini < best_gini:\n",
    "                    best_gini = gini\n",
    "                    best_feature = feature\n",
    "                    best_threshold = threshold\n",
    "\n",
    "        return best_feature, best_threshold"
   ]
  },
  {
   "cell_type": "code",
   "execution_count": 12,
   "metadata": {},
   "outputs": [
    {
     "name": "stdout",
     "output_type": "stream",
     "text": [
      "best_feature:2\n",
      "best_threshold:1.9\n"
     ]
    }
   ],
   "source": [
    "best_feature, best_threshold=best_split(X, y)\n",
    "print(f\"best_feature:{best_feature}\")\n",
    "print(f\"best_threshold:{best_threshold}\")"
   ]
  },
  {
   "cell_type": "code",
   "execution_count": 13,
   "metadata": {},
   "outputs": [],
   "source": [
    "#split data with best split (an example to identify majority class)\n",
    "n_samples, n_features = X.shape\n",
    "feature=2\n",
    "threshold=1.9\n",
    "left_mask = X[:, feature] <= threshold\n",
    "right_mask = ~left_mask\n",
    "left_y=y[left_mask]\n",
    "right_y=y[right_mask]\n"
   ]
  },
  {
   "cell_type": "code",
   "execution_count": 14,
   "metadata": {},
   "outputs": [
    {
     "name": "stdout",
     "output_type": "stream",
     "text": [
      "[0]\n",
      "[41]\n",
      "0\n"
     ]
    }
   ],
   "source": [
    "classes, counts = np.unique(y[left_mask], return_counts=True)\n",
    "majority_class = classes[np.argmax(counts)]\n",
    "print(classes)\n",
    "print(counts)\n",
    "print(majority_class)"
   ]
  },
  {
   "cell_type": "code",
   "execution_count": 15,
   "metadata": {},
   "outputs": [
    {
     "name": "stdout",
     "output_type": "stream",
     "text": [
      "[1 2]\n",
      "[37 42]\n",
      "2\n"
     ]
    }
   ],
   "source": [
    "classes, counts = np.unique(y[right_mask], return_counts=True)\n",
    "majority_class = classes[np.argmax(counts)]\n",
    "print(classes)\n",
    "print(counts)\n",
    "print(majority_class)"
   ]
  },
  {
   "cell_type": "code",
   "execution_count": 16,
   "metadata": {},
   "outputs": [],
   "source": [
    "def majority_class(y):\n",
    "    classes, counts = np.unique(y, return_counts=True)\n",
    "    majority_class = classes[np.argmax(counts)]\n",
    "    return majority_class"
   ]
  },
  {
   "cell_type": "code",
   "execution_count": 17,
   "metadata": {},
   "outputs": [
    {
     "name": "stdout",
     "output_type": "stream",
     "text": [
      "class_left:0\n",
      "class_right:2\n"
     ]
    }
   ],
   "source": [
    "class_left=majority_class(y[left_mask])\n",
    "class_right=majority_class(y[right_mask])\n",
    "print(f\"class_left:{class_left}\")\n",
    "print(f\"class_right:{class_right}\")"
   ]
  },
  {
   "cell_type": "markdown",
   "metadata": {},
   "source": [
    "### Build tree\n",
    "\n",
    "Python recursion function"
   ]
  },
  {
   "cell_type": "code",
   "execution_count": 18,
   "metadata": {},
   "outputs": [],
   "source": [
    "max_depth=3\n",
    "def grow_tree(X, y, depth=0):\n",
    "        n_samples, n_features = X.shape\n",
    "        unique_classes = np.unique(y)\n",
    "        gini=round(gini_impurity(y),2)\n",
    "        \n",
    "        # Check for stopping criteria\n",
    "        if len(unique_classes) == 1:\n",
    "            return {'feature': None, 'threshold':  None,'gini': gini,\n",
    "                'left':  None, 'right':  None,'class': unique_classes[0],'is_node':1 }\n",
    "\n",
    "        if max_depth is not None and depth == max_depth:\n",
    "            return {'feature': None, 'threshold':  None,'gini': gini,\n",
    "                'left':  None, 'right':  None,'class': majority_class(y),'is_node':1 }\n",
    "\n",
    "\n",
    "        # Find the best split\n",
    "        feature, threshold = best_split(X, y)\n",
    "\n",
    "        # Split the data\n",
    "        left_mask = X[:, feature] <= threshold\n",
    "        right_mask = ~left_mask\n",
    "\n",
    "        left_tree = grow_tree(X[left_mask], y[left_mask], depth + 1)\n",
    "        right_tree = grow_tree(X[right_mask], y[right_mask], depth + 1)\n",
    "\n",
    "        return {'feature': feature, 'threshold': threshold,'gini':gini,\n",
    "                'left': left_tree, 'right': right_tree,'class':None,'is_node':None}"
   ]
  },
  {
   "cell_type": "code",
   "execution_count": 19,
   "metadata": {},
   "outputs": [
    {
     "name": "stdout",
     "output_type": "stream",
     "text": [
      "{'feature': 2, 'threshold': 1.9, 'gini': 0.67, 'left': {'feature': None, 'threshold': None, 'gini': 0.0, 'left': None, 'right': None, 'class': 0, 'is_node': 1}, 'right': {'feature': 3, 'threshold': 1.7, 'gini': 0.5, 'left': {'feature': 2, 'threshold': 4.9, 'gini': 0.21, 'left': {'feature': None, 'threshold': None, 'gini': 0.06, 'left': None, 'right': None, 'class': 1, 'is_node': 1}, 'right': {'feature': None, 'threshold': None, 'gini': 0.44, 'left': None, 'right': None, 'class': 2, 'is_node': 1}, 'class': None, 'is_node': None}, 'right': {'feature': 2, 'threshold': 4.8, 'gini': 0.05, 'left': {'feature': None, 'threshold': None, 'gini': 0.44, 'left': None, 'right': None, 'class': 2, 'is_node': 1}, 'right': {'feature': None, 'threshold': None, 'gini': 0.0, 'left': None, 'right': None, 'class': 2, 'is_node': 1}, 'class': None, 'is_node': None}, 'class': None, 'is_node': None}, 'class': None, 'is_node': None}\n"
     ]
    }
   ],
   "source": [
    "trees=grow_tree(X, y)\n",
    "print(trees)"
   ]
  },
  {
   "cell_type": "code",
   "execution_count": 20,
   "metadata": {},
   "outputs": [
    {
     "name": "stdout",
     "output_type": "stream",
     "text": [
      "`-- Feature: 2, Threshold: 1.9, Gini: 0.67,Class:None,node:None\n",
      "    |-- Feature: None, Threshold: None, Gini: 0.0,Class:0,node:1\n",
      "    `-- Feature: 3, Threshold: 1.7, Gini: 0.5,Class:None,node:None\n",
      "        |-- Feature: 2, Threshold: 4.9, Gini: 0.21,Class:None,node:None\n",
      "        |   |-- Feature: None, Threshold: None, Gini: 0.06,Class:1,node:1\n",
      "        |   `-- Feature: None, Threshold: None, Gini: 0.44,Class:2,node:1\n",
      "        `-- Feature: 2, Threshold: 4.8, Gini: 0.05,Class:None,node:None\n",
      "            |-- Feature: None, Threshold: None, Gini: 0.44,Class:2,node:1\n",
      "            `-- Feature: None, Threshold: None, Gini: 0.0,Class:2,node:1\n"
     ]
    }
   ],
   "source": [
    "def print_decision_tree(node, prefix=\"\", is_last=True):\n",
    "    print(prefix + (\"`-- \" if is_last else \"|-- \") + f\"Feature: {node['feature']}, Threshold: {node['threshold']}, Gini: {node['gini']},Class:{node['class']},node:{node['is_node']}\")\n",
    "    \n",
    "    prefix += \"    \" if is_last else \"|   \"\n",
    "    \n",
    "    if 'left' in node and node['left'] is not None:\n",
    "        print_decision_tree(node['left'], prefix, False)\n",
    "    \n",
    "    if 'right' in node and node['right'] is not None:\n",
    "        print_decision_tree(node['right'], prefix, True)\n",
    "        \n",
    "print_decision_tree(trees)"
   ]
  },
  {
   "cell_type": "code",
   "execution_count": 24,
   "metadata": {},
   "outputs": [],
   "source": [
    "def export_tree_to_dot(node,dot, parent_node_id=None):\n",
    "    node_id =id(node)\n",
    "    feature=node['feature']\n",
    "    threshold=node['threshold']\n",
    "    gini=node['gini']\n",
    "    label = f\"feature:{feature} \\n x<={threshold} \\n gini:{gini}\"\n",
    "\n",
    "    if node['is_node']==1:\n",
    "        t=node['class']\n",
    "        label = f\"class:{t} \\n\"\n",
    "        dot.add_node(pydot.Node(node_id, label=label,shape='square',style='filled',fillcolor='green'))\n",
    "            \n",
    "    dot.add_node(pydot.Node(node_id, label=label,shape='square'))\n",
    "    \n",
    "    if parent_node_id:\n",
    "        dot.add_edge(pydot.Edge(parent_node_id, node_id))\n",
    "\n",
    "    if node['threshold'] is not None:\n",
    "        export_tree_to_dot(node['left'], dot, parent_node_id=node_id)\n",
    "        export_tree_to_dot(node['right'], dot, parent_node_id=node_id)"
   ]
  },
  {
   "cell_type": "code",
   "execution_count": 22,
   "metadata": {},
   "outputs": [
    {
     "data": {
      "text/plain": [
       "'test_basic_gini.png'"
      ]
     },
     "execution_count": 22,
     "metadata": {},
     "output_type": "execute_result"
    }
   ],
   "source": [
    "dot = pydot.Dot('my_graph', graph_type='graph') \n",
    "export_tree_to_dot(trees, dot, parent_node_id=None)\n",
    "g=graphviz.Source(dot, format='png')\n",
    "g.render(\"test_basic_gini\",view=True)"
   ]
  },
  {
   "cell_type": "markdown",
   "metadata": {},
   "source": [
    "![SNOWFALL](test_basic_gini.png) "
   ]
  },
  {
   "cell_type": "code",
   "execution_count": 22,
   "metadata": {},
   "outputs": [],
   "source": [
    "def predict_tree(x, node):\n",
    "        if node['is_node']==1:\n",
    "            return node['class']\n",
    "        else:\n",
    "            if x[node['feature']] <= node['threshold']:\n",
    "                return predict_tree(x, node['left'])\n",
    "            else:\n",
    "                return predict_tree(x, node['right'])"
   ]
  },
  {
   "cell_type": "code",
   "execution_count": 23,
   "metadata": {},
   "outputs": [
    {
     "name": "stdout",
     "output_type": "stream",
     "text": [
      "[6.1 3.  4.6 1.4]\n",
      "predicted class for x0:1\n"
     ]
    }
   ],
   "source": [
    "x0=X_test[0]\n",
    "print(x0)\n",
    "cls=predict_tree(x0, trees)\n",
    "print(f\"predicted class for x0:{cls}\")"
   ]
  },
  {
   "cell_type": "code",
   "execution_count": 24,
   "metadata": {},
   "outputs": [
    {
     "name": "stdout",
     "output_type": "stream",
     "text": [
      "(30,)\n"
     ]
    }
   ],
   "source": [
    "y_pred=np.array([predict_tree(x, trees) for x in X_test])\n",
    "print(y_pred.shape)"
   ]
  },
  {
   "cell_type": "code",
   "execution_count": 25,
   "metadata": {},
   "outputs": [
    {
     "name": "stdout",
     "output_type": "stream",
     "text": [
      "Accuracy: 1.0000\n"
     ]
    }
   ],
   "source": [
    "from sklearn.metrics import accuracy_score\n",
    "accuracy = accuracy_score(y_test, y_pred)\n",
    "print(f'Accuracy: {accuracy:.4f}')"
   ]
  },
  {
   "cell_type": "code",
   "execution_count": 22,
   "metadata": {},
   "outputs": [],
   "source": [
    "class DecisionTree_gini:\n",
    "    def __init__(self, max_depth=None):\n",
    "        self.max_depth = max_depth\n",
    "\n",
    "    def fit(self, X, y):\n",
    "        self.tree = self._grow_tree(X, y)\n",
    "\n",
    "    def _grow_tree(self, X, y, depth=0):\n",
    "        n_samples, n_features = X.shape\n",
    "        unique_classes = np.unique(y)\n",
    "        gini=round(self._gini_impurity(y),2)\n",
    "        # Check for stopping criteria\n",
    "        if len(unique_classes) == 1:\n",
    "            return {'feature': None, 'threshold':  None,'gini': gini,\n",
    "                'left':  None, 'right':  None,'class': unique_classes[0],'is_node':1 }\n",
    "\n",
    "        if self.max_depth is not None and depth == self.max_depth:\n",
    "            return {'feature': None, 'threshold':  None,'gini': gini,\n",
    "                'left':  None, 'right':  None,'class': self._majority_class(y),'is_node':1 }\n",
    "\n",
    "\n",
    "        # Find the best split\n",
    "        feature, threshold = self._best_split(X, y)\n",
    "\n",
    "        # Split the data\n",
    "        left_mask = X[:, feature] <= threshold\n",
    "        right_mask = ~left_mask\n",
    "\n",
    "        left_tree = self._grow_tree(X[left_mask], y[left_mask], depth + 1)\n",
    "        right_tree = self._grow_tree(X[right_mask], y[right_mask], depth + 1)\n",
    "\n",
    "        return {'feature': feature, 'threshold': threshold,'gini':gini,\n",
    "                'left': left_tree, 'right': right_tree,'class':None,'is_node':None}\n",
    "\n",
    "    def _best_split(self, X, y):\n",
    "        n_samples, n_features = X.shape\n",
    "        unique_classes = np.unique(y)\n",
    "\n",
    "        best_gini = float('inf')\n",
    "        best_feature = None\n",
    "        best_threshold = None\n",
    "\n",
    "        for feature in range(n_features):\n",
    "            thresholds = np.unique(X[:, feature])\n",
    "\n",
    "            for threshold in thresholds:\n",
    "                left_mask = X[:, feature] <= threshold\n",
    "                right_mask = ~left_mask\n",
    "\n",
    "                gini = (np.sum(left_mask) * self._gini_impurity(y[left_mask]) +\n",
    "                        np.sum(right_mask) * self._gini_impurity(y[right_mask])) / n_samples\n",
    "                \n",
    "                if gini < best_gini:\n",
    "                    best_gini = gini\n",
    "                    best_feature = feature\n",
    "                    best_threshold = threshold\n",
    "\n",
    "        return best_feature, best_threshold\n",
    "\n",
    "    def _gini_impurity(self, y):\n",
    "        classes, counts = np.unique(y, return_counts=True)\n",
    "        probabilities = counts / len(y)\n",
    "        gini = 1 - np.sum(probabilities ** 2)\n",
    "        return gini\n",
    "\n",
    "    def _majority_class(self, y):\n",
    "        classes, counts = np.unique(y, return_counts=True)\n",
    "        majority_class = classes[np.argmax(counts)]\n",
    "        return majority_class\n",
    "\n",
    "    def predict(self, X):\n",
    "        return np.array([self._predict_tree(x, self.tree) for x in X])\n",
    "\n",
    "    def _predict_tree(self, x, node):\n",
    "        if node['is_node']==1:\n",
    "            return node['class']\n",
    "        else:\n",
    "            if x[node['feature']] <= node['threshold']:\n",
    "                return self._predict_tree(x, node['left'])\n",
    "            else:\n",
    "                return self._predict_tree(x, node['right'])"
   ]
  },
  {
   "cell_type": "code",
   "execution_count": 25,
   "metadata": {},
   "outputs": [
    {
     "name": "stdout",
     "output_type": "stream",
     "text": [
      "Accuracy: 1.0000\n"
     ]
    },
    {
     "data": {
      "text/plain": [
       "'test_basic_gini.png'"
      ]
     },
     "execution_count": 25,
     "metadata": {},
     "output_type": "execute_result"
    }
   ],
   "source": [
    "data = load_iris()\n",
    "DataX=data.data\n",
    "Datay=data.target\n",
    "# Generate synthetic data\n",
    "# Split the data into training and testing sets\n",
    "X_train, X_test, y_train,y_test=train_test_split(DataX,Datay, test_size=0.2,random_state=1234)\n",
    "\n",
    "# Train the decision tree classifier\n",
    "dt_classifier = DecisionTree_gini(max_depth=3)\n",
    "dt_classifier.fit(X_train, y_train)\n",
    "y_pred = dt_classifier.predict(X_test)\n",
    "\n",
    "# Evaluate the accuracy\n",
    "from sklearn.metrics import accuracy_score\n",
    "accuracy = accuracy_score(y_test, y_pred)\n",
    "print(f'Accuracy: {accuracy:.4f}')\n",
    "\n",
    "\n",
    "#create tree plot\n",
    "trees=dt_classifier.tree\n",
    "dot = pydot.Dot('my_graph', graph_type='graph') \n",
    "export_tree_to_dot(trees, dot, parent_node_id=None)\n",
    "g=graphviz.Source(dot, format='png')\n",
    "g.render(\"test_basic_gini\",view=True)"
   ]
  },
  {
   "cell_type": "markdown",
   "metadata": {},
   "source": [
    "![SNOWFALL](test_basic_gini.png) "
   ]
  },
  {
   "cell_type": "markdown",
   "metadata": {},
   "source": [
    "### Sklearn decision tree"
   ]
  },
  {
   "cell_type": "code",
   "execution_count": 30,
   "metadata": {},
   "outputs": [],
   "source": [
    "from sklearn.tree import DecisionTreeClassifier"
   ]
  },
  {
   "cell_type": "code",
   "execution_count": 31,
   "metadata": {},
   "outputs": [
    {
     "name": "stdout",
     "output_type": "stream",
     "text": [
      "Accuracy: 1.0\n"
     ]
    }
   ],
   "source": [
    "clf = DecisionTreeClassifier(criterion=\"gini\", max_depth=3)\n",
    "# Train Decision Tree Classifer\n",
    "clf = clf.fit(X_train,y_train)\n",
    "#Predict the response for test dataset\n",
    "y_pred = clf.predict(X_test)\n",
    "print(\"Accuracy:\",accuracy_score(y_test, y_pred))"
   ]
  },
  {
   "cell_type": "code",
   "execution_count": 34,
   "metadata": {},
   "outputs": [
    {
     "data": {
      "image/png": "[encoded data removed]",
      "text/plain": [
       "<IPython.core.display.Image object>"
      ]
     },
     "execution_count": 34,
     "metadata": {},
     "output_type": "execute_result"
    }
   ],
   "source": [
    "from sklearn.tree import export_graphviz\n",
    "from io import StringIO  \n",
    "from IPython.display import Image  \n",
    "import pydotplus\n",
    "\n",
    "dot_data = StringIO()\n",
    "export_graphviz(clf, out_file=dot_data,  \n",
    "                filled=True, rounded=True,\n",
    "                special_characters=True,feature_names = [str(i) for i in range(4)],class_names=['0','1','2'])\n",
    "\n",
    "graph = pydotplus.graph_from_dot_data(dot_data.getvalue())  \n",
    "#graph.write_png('diabetes2.png')\n",
    "Image(graph.create_png())"
   ]
  },
  {
   "cell_type": "code",
   "execution_count": 35,
   "metadata": {},
   "outputs": [
    {
     "name": "stdout",
     "output_type": "stream",
     "text": [
      "gini:0.3278481012658228\n"
     ]
    }
   ],
   "source": [
    "n_samples, n_features = X.shape\n",
    "feature=3\n",
    "threshold=0.7\n",
    "left_mask = X[:, feature] <= threshold\n",
    "right_mask = ~left_mask\n",
    "left_y=y[left_mask]\n",
    "right_y=y[right_mask]\n",
    "left_gini=gini_impurity(left_y)\n",
    "right_gini=gini_impurity(right_y)\n",
    "gini=(np.sum(left_mask)*left_gini+np.sum(right_mask)*right_gini)/n_samples\n",
    "print(f\"gini:{gini}\")"
   ]
  },
  {
   "cell_type": "code",
   "execution_count": 37,
   "metadata": {},
   "outputs": [
    {
     "name": "stdout",
     "output_type": "stream",
     "text": [
      "gini:0.3278481012658228\n"
     ]
    }
   ],
   "source": [
    "n_samples, n_features = X.shape\n",
    "feature=2\n",
    "threshold=1.9\n",
    "left_mask = X[:, feature] <= threshold\n",
    "right_mask = ~left_mask\n",
    "left_y=y[left_mask]\n",
    "right_y=y[right_mask]\n",
    "left_gini=gini_impurity(left_y)\n",
    "right_gini=gini_impurity(right_y)\n",
    "gini=(np.sum(left_mask)*left_gini+np.sum(right_mask)*right_gini)/n_samples\n",
    "print(f\"gini:{gini}\")"
   ]
  },
  {
   "cell_type": "code",
   "execution_count": 37,
   "metadata": {},
   "outputs": [
    {
     "name": "stdout",
     "output_type": "stream",
     "text": [
      "gini:0.3278481012658228\n"
     ]
    }
   ],
   "source": [
    "X=X_train\n",
    "y=y_train\n",
    "\n",
    "n_samples, n_features = X.shape\n",
    "feature=2\n",
    "threshold=2.4\n",
    "left_mask = X[:, feature] <= threshold\n",
    "right_mask = ~left_mask\n",
    "left_y=y[left_mask]\n",
    "right_y=y[right_mask]\n",
    "left_gini=gini_impurity(left_y)\n",
    "right_gini=gini_impurity(right_y)\n",
    "gini=(np.sum(left_mask)*left_gini+np.sum(right_mask)*right_gini)/n_samples\n",
    "print(f\"gini:{gini}\")"
   ]
  },
  {
   "cell_type": "code",
   "execution_count": 38,
   "metadata": {},
   "outputs": [
    {
     "name": "stdout",
     "output_type": "stream",
     "text": [
      "Accuracy: 1.0\n"
     ]
    }
   ],
   "source": [
    "#Use entropy\n",
    "\n",
    "clf2 = DecisionTreeClassifier(criterion=\"entropy\", max_depth=3)\n",
    "# Train Decision Tree Classifer\n",
    "clf2 = clf2.fit(X_train,y_train)\n",
    "#Predict the response for test dataset\n",
    "y_pred = clf2.predict(X_test)\n",
    "print(\"Accuracy:\",accuracy_score(y_test, y_pred))"
   ]
  },
  {
   "cell_type": "code",
   "execution_count": 39,
   "metadata": {},
   "outputs": [
    {
     "data": {
      "image/png": "[encoded data removed]",
      "text/plain": [
       "<IPython.core.display.Image object>"
      ]
     },
     "execution_count": 39,
     "metadata": {},
     "output_type": "execute_result"
    }
   ],
   "source": [
    "dot_data = StringIO()\n",
    "export_graphviz(clf2, out_file=dot_data,  \n",
    "                filled=True, rounded=True,\n",
    "                special_characters=True,feature_names = [str(i) for i in range(4)],class_names=['0','1','2'])\n",
    "\n",
    "graph = pydotplus.graph_from_dot_data(dot_data.getvalue())  \n",
    "#graph.write_png('diabetes2.png')\n",
    "Image(graph.create_png())"
   ]
  },
  {
   "cell_type": "code",
   "execution_count": null,
   "metadata": {},
   "outputs": [],
   "source": []
  }
 ],
 "metadata": {
  "kernelspec": {
   "display_name": "Python 3 (ipykernel)",
   "language": "python",
   "name": "python3"
  },
  "language_info": {
   "codemirror_mode": {
    "name": "ipython",
    "version": 3
   },
   "file_extension": ".py",
   "mimetype": "text/x-python",
   "name": "python",
   "nbconvert_exporter": "python",
   "pygments_lexer": "ipython3",
   "version": "3.9.12"
  }
 },
 "nbformat": 4,
 "nbformat_minor": 4
}
