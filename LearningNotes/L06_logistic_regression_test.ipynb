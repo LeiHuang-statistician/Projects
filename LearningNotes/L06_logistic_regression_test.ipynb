{
 "cells": [
  {
   "cell_type": "code",
   "execution_count": 1,
   "metadata": {},
   "outputs": [],
   "source": [
    "import os\n",
    "import pandas as pd\n",
    "import numpy as np\n",
    "import random\n",
    "import matplotlib.pyplot as plt\n",
    "from sklearn import datasets\n",
    "\n",
    "os.chdir(\"C:\\\\Users\\lhuang\\PycharmProjects\\pyLearng\\logistic_regression_maxium_liklihood\")"
   ]
  },
  {
   "cell_type": "markdown",
   "metadata": {},
   "source": [
    "##  Maximum Likelihood Method (MLE)\n",
    "\n",
    "### likelihood (L) or the joint probability\n",
    "\n",
    "$ L=P_1*P_2*...*P_n*(1-P_i)*...*(1-P_n) \\\\\n",
    "   =\\prod_{i=1,y=1}^{n}P_i*\\prod_{i=1,y=0}^{n}(1-P_i)$\n",
    "   \n",
    "$Pi=\\dfrac{e^{a+b*X_i}}{1+e^{a+b*X_i}}=\\dfrac{1}{1+e^{-(a+b*X_i)}}$\n",
    "\n",
    "### Log likelihood funmction\n",
    "$L(X|P)=\\sum_{i=1,y_i=1}^{n}logP(x_i)+\\sum_{i=1,y_i=0}log(1-P(x_i))$\n",
    "\n",
    "#### The first derivation of the Log likelihood function:\n",
    "\n",
    "$\\nabla_bL=\\sum_{i=1}^{N}y_ix_i-P_ix_i$\n",
    "\n",
    "Matrix: $X(Y-P)$\n",
    "\n",
    "#### The second derivation of the Log likelihood function:\n",
    "\n",
    "$H=\\frac{\\partial}{\\partial b}\\nabla_bL=-\\sum_{i=1}^{N}x_iPi(1-P)x_i^T$\n",
    "\n",
    "Matrix: $XWX^{T}$\n",
    "\n",
    "W is a diagonal matrix containing the product of probabilities in the diagonal.\n",
    "\n",
    "#### Use the Newton-Raphson method to update the beta coefficients (b) by adding root differences\n",
    "\n",
    "root differences: $\\Delta b=(XWX^{T})^{-1}X(Y-P)$\n",
    "\n",
    "updated b: $b=b+\\Delta b$\n",
    "\n",
    "\n",
    "### X matrix\n",
    "X shape=(m,n+1)\n",
    "\n",
    "$\n",
    "X = \n",
    "\\begin{pmatrix}\n",
    "x_{1,1} & x_{1,2} & \\cdots & x_{1,n} & a \\\\\n",
    "x_{2,1} & x_{2,2} & \\cdots & x_{2,n} & a\\\\\n",
    "\\vdots & \\vdots & \\ddots & \\vdots &\\vdots \\\\\n",
    "x_{m,1} & x_{m,2} & \\cdots & x_{m,n} & a \n",
    "\\end{pmatrix}\n",
    "$\n",
    "\n",
    "### B matrix\n",
    "B shape: (n+1,1)\n",
    "\n",
    "$\n",
    "B= \n",
    "\\begin{pmatrix}\n",
    "b_{1}  \\\\\n",
    "b_{2} \\\\\n",
    "\\vdots \\\\\n",
    "b_{n+1} \n",
    "\\end{pmatrix}\n",
    "$\n"
   ]
  },
  {
   "cell_type": "markdown",
   "metadata": {},
   "source": [
    "### Data Preparation"
   ]
  },
  {
   "cell_type": "code",
   "execution_count": 2,
   "metadata": {},
   "outputs": [],
   "source": [
    "bank_final=pd.read_csv('bankfinal.csv')\n"
   ]
  },
  {
   "cell_type": "code",
   "execution_count": 3,
   "metadata": {},
   "outputs": [
    {
     "data": {
      "text/html": [
       "<div>\n",
       "<style scoped>\n",
       "    .dataframe tbody tr th:only-of-type {\n",
       "        vertical-align: middle;\n",
       "    }\n",
       "\n",
       "    .dataframe tbody tr th {\n",
       "        vertical-align: top;\n",
       "    }\n",
       "\n",
       "    .dataframe thead th {\n",
       "        text-align: right;\n",
       "    }\n",
       "</style>\n",
       "<table border=\"1\" class=\"dataframe\">\n",
       "  <thead>\n",
       "    <tr style=\"text-align: right;\">\n",
       "      <th></th>\n",
       "      <th>previous</th>\n",
       "      <th>euribor3m</th>\n",
       "      <th>job_entrepreneur</th>\n",
       "      <th>job_self-employed</th>\n",
       "      <th>poutcome_success</th>\n",
       "      <th>poutcome_failure</th>\n",
       "      <th>month_oct</th>\n",
       "      <th>month_may</th>\n",
       "      <th>month_mar</th>\n",
       "      <th>month_jun</th>\n",
       "      <th>month_jul</th>\n",
       "      <th>month_dec</th>\n",
       "    </tr>\n",
       "  </thead>\n",
       "  <tbody>\n",
       "    <tr>\n",
       "      <th>0</th>\n",
       "      <td>0</td>\n",
       "      <td>1.313</td>\n",
       "      <td>0</td>\n",
       "      <td>0</td>\n",
       "      <td>0</td>\n",
       "      <td>0</td>\n",
       "      <td>0</td>\n",
       "      <td>1</td>\n",
       "      <td>0</td>\n",
       "      <td>0</td>\n",
       "      <td>0</td>\n",
       "      <td>0</td>\n",
       "    </tr>\n",
       "    <tr>\n",
       "      <th>1</th>\n",
       "      <td>0</td>\n",
       "      <td>4.855</td>\n",
       "      <td>0</td>\n",
       "      <td>0</td>\n",
       "      <td>0</td>\n",
       "      <td>0</td>\n",
       "      <td>0</td>\n",
       "      <td>1</td>\n",
       "      <td>0</td>\n",
       "      <td>0</td>\n",
       "      <td>0</td>\n",
       "      <td>0</td>\n",
       "    </tr>\n",
       "    <tr>\n",
       "      <th>2</th>\n",
       "      <td>0</td>\n",
       "      <td>4.962</td>\n",
       "      <td>0</td>\n",
       "      <td>0</td>\n",
       "      <td>0</td>\n",
       "      <td>0</td>\n",
       "      <td>0</td>\n",
       "      <td>0</td>\n",
       "      <td>0</td>\n",
       "      <td>1</td>\n",
       "      <td>0</td>\n",
       "      <td>0</td>\n",
       "    </tr>\n",
       "    <tr>\n",
       "      <th>3</th>\n",
       "      <td>0</td>\n",
       "      <td>4.959</td>\n",
       "      <td>0</td>\n",
       "      <td>0</td>\n",
       "      <td>0</td>\n",
       "      <td>0</td>\n",
       "      <td>0</td>\n",
       "      <td>0</td>\n",
       "      <td>0</td>\n",
       "      <td>1</td>\n",
       "      <td>0</td>\n",
       "      <td>0</td>\n",
       "    </tr>\n",
       "    <tr>\n",
       "      <th>4</th>\n",
       "      <td>0</td>\n",
       "      <td>4.191</td>\n",
       "      <td>0</td>\n",
       "      <td>0</td>\n",
       "      <td>0</td>\n",
       "      <td>0</td>\n",
       "      <td>0</td>\n",
       "      <td>0</td>\n",
       "      <td>0</td>\n",
       "      <td>0</td>\n",
       "      <td>0</td>\n",
       "      <td>0</td>\n",
       "    </tr>\n",
       "  </tbody>\n",
       "</table>\n",
       "</div>"
      ],
      "text/plain": [
       "   previous  euribor3m  job_entrepreneur  job_self-employed  poutcome_success  \\\n",
       "0         0      1.313                 0                  0                 0   \n",
       "1         0      4.855                 0                  0                 0   \n",
       "2         0      4.962                 0                  0                 0   \n",
       "3         0      4.959                 0                  0                 0   \n",
       "4         0      4.191                 0                  0                 0   \n",
       "\n",
       "   poutcome_failure  month_oct  month_may  month_mar  month_jun  month_jul  \\\n",
       "0                 0          0          1          0          0          0   \n",
       "1                 0          0          1          0          0          0   \n",
       "2                 0          0          0          0          1          0   \n",
       "3                 0          0          0          0          1          0   \n",
       "4                 0          0          0          0          0          0   \n",
       "\n",
       "   month_dec  \n",
       "0          0  \n",
       "1          0  \n",
       "2          0  \n",
       "3          0  \n",
       "4          0  "
      ]
     },
     "execution_count": 3,
     "metadata": {},
     "output_type": "execute_result"
    }
   ],
   "source": [
    "cols=['previous', 'euribor3m', 'job_entrepreneur', 'job_self-employed',\n",
    "      'poutcome_success', 'poutcome_failure', 'month_oct', 'month_may',\n",
    "      'month_mar', 'month_jun', 'month_jul', 'month_dec']\n",
    "X=bank_final[cols]\n",
    "Y=bank_final['y']\n",
    "\n",
    "X.head()"
   ]
  },
  {
   "cell_type": "code",
   "execution_count": 4,
   "metadata": {},
   "outputs": [
    {
     "data": {
      "text/plain": [
       "0    3668\n",
       "1     451\n",
       "Name: y, dtype: int64"
      ]
     },
     "execution_count": 4,
     "metadata": {},
     "output_type": "execute_result"
    }
   ],
   "source": [
    "Y.value_counts()"
   ]
  },
  {
   "cell_type": "code",
   "execution_count": 6,
   "metadata": {},
   "outputs": [
    {
     "name": "stdout",
     "output_type": "stream",
     "text": [
      "beta(b) shape:(13, 1)\n",
      "root diff shape:(13, 1)\n",
      "X_new Data:(4119, 13)\n"
     ]
    },
    {
     "data": {
      "text/html": [
       "<div>\n",
       "<style scoped>\n",
       "    .dataframe tbody tr th:only-of-type {\n",
       "        vertical-align: middle;\n",
       "    }\n",
       "\n",
       "    .dataframe tbody tr th {\n",
       "        vertical-align: top;\n",
       "    }\n",
       "\n",
       "    .dataframe thead th {\n",
       "        text-align: right;\n",
       "    }\n",
       "</style>\n",
       "<table border=\"1\" class=\"dataframe\">\n",
       "  <thead>\n",
       "    <tr style=\"text-align: right;\">\n",
       "      <th></th>\n",
       "      <th>previous</th>\n",
       "      <th>euribor3m</th>\n",
       "      <th>job_entrepreneur</th>\n",
       "      <th>job_self-employed</th>\n",
       "      <th>poutcome_success</th>\n",
       "      <th>poutcome_failure</th>\n",
       "      <th>month_oct</th>\n",
       "      <th>month_may</th>\n",
       "      <th>month_mar</th>\n",
       "      <th>month_jun</th>\n",
       "      <th>month_jul</th>\n",
       "      <th>month_dec</th>\n",
       "      <th>inter</th>\n",
       "    </tr>\n",
       "  </thead>\n",
       "  <tbody>\n",
       "    <tr>\n",
       "      <th>0</th>\n",
       "      <td>0</td>\n",
       "      <td>1.313</td>\n",
       "      <td>0</td>\n",
       "      <td>0</td>\n",
       "      <td>0</td>\n",
       "      <td>0</td>\n",
       "      <td>0</td>\n",
       "      <td>1</td>\n",
       "      <td>0</td>\n",
       "      <td>0</td>\n",
       "      <td>0</td>\n",
       "      <td>0</td>\n",
       "      <td>1.0</td>\n",
       "    </tr>\n",
       "    <tr>\n",
       "      <th>1</th>\n",
       "      <td>0</td>\n",
       "      <td>4.855</td>\n",
       "      <td>0</td>\n",
       "      <td>0</td>\n",
       "      <td>0</td>\n",
       "      <td>0</td>\n",
       "      <td>0</td>\n",
       "      <td>1</td>\n",
       "      <td>0</td>\n",
       "      <td>0</td>\n",
       "      <td>0</td>\n",
       "      <td>0</td>\n",
       "      <td>1.0</td>\n",
       "    </tr>\n",
       "    <tr>\n",
       "      <th>2</th>\n",
       "      <td>0</td>\n",
       "      <td>4.962</td>\n",
       "      <td>0</td>\n",
       "      <td>0</td>\n",
       "      <td>0</td>\n",
       "      <td>0</td>\n",
       "      <td>0</td>\n",
       "      <td>0</td>\n",
       "      <td>0</td>\n",
       "      <td>1</td>\n",
       "      <td>0</td>\n",
       "      <td>0</td>\n",
       "      <td>1.0</td>\n",
       "    </tr>\n",
       "    <tr>\n",
       "      <th>3</th>\n",
       "      <td>0</td>\n",
       "      <td>4.959</td>\n",
       "      <td>0</td>\n",
       "      <td>0</td>\n",
       "      <td>0</td>\n",
       "      <td>0</td>\n",
       "      <td>0</td>\n",
       "      <td>0</td>\n",
       "      <td>0</td>\n",
       "      <td>1</td>\n",
       "      <td>0</td>\n",
       "      <td>0</td>\n",
       "      <td>1.0</td>\n",
       "    </tr>\n",
       "    <tr>\n",
       "      <th>4</th>\n",
       "      <td>0</td>\n",
       "      <td>4.191</td>\n",
       "      <td>0</td>\n",
       "      <td>0</td>\n",
       "      <td>0</td>\n",
       "      <td>0</td>\n",
       "      <td>0</td>\n",
       "      <td>0</td>\n",
       "      <td>0</td>\n",
       "      <td>0</td>\n",
       "      <td>0</td>\n",
       "      <td>0</td>\n",
       "      <td>1.0</td>\n",
       "    </tr>\n",
       "  </tbody>\n",
       "</table>\n",
       "</div>"
      ],
      "text/plain": [
       "   previous  euribor3m  job_entrepreneur  job_self-employed  poutcome_success  \\\n",
       "0         0      1.313                 0                  0                 0   \n",
       "1         0      4.855                 0                  0                 0   \n",
       "2         0      4.962                 0                  0                 0   \n",
       "3         0      4.959                 0                  0                 0   \n",
       "4         0      4.191                 0                  0                 0   \n",
       "\n",
       "   poutcome_failure  month_oct  month_may  month_mar  month_jun  month_jul  \\\n",
       "0                 0          0          1          0          0          0   \n",
       "1                 0          0          1          0          0          0   \n",
       "2                 0          0          0          0          1          0   \n",
       "3                 0          0          0          0          1          0   \n",
       "4                 0          0          0          0          0          0   \n",
       "\n",
       "   month_dec  inter  \n",
       "0          0    1.0  \n",
       "1          0    1.0  \n",
       "2          0    1.0  \n",
       "3          0    1.0  \n",
       "4          0    1.0  "
      ]
     },
     "execution_count": 6,
     "metadata": {},
     "output_type": "execute_result"
    }
   ],
   "source": [
    "nrow=np.shape(X)[0]\n",
    "inter=np.ones(nrow).reshape(nrow,1)\n",
    "X_new=np.append(X,inter,axis=1)\n",
    "ncol=np.shape(X_new)[1]\n",
    "beta=np.zeros(ncol).reshape(ncol,1)\n",
    "root_diff=np.array(range(1,ncol+1)).reshape(ncol,1)\n",
    "\n",
    "print(f\"beta(b) shape:{beta.shape}\")\n",
    "print(f\"root diff shape:{root_diff.shape}\")\n",
    "print(f\"X_new Data:{X_new.shape}\")\n",
    "X_add_inter=X.copy()\n",
    "X_add_inter['inter']=inter\n",
    "X_add_inter.head()"
   ]
  },
  {
   "cell_type": "markdown",
   "metadata": {},
   "source": [
    "### One Iteration\n",
    "$Pi=\\dfrac{e^{b*X_{newi}}}{1+e^{b*X_{newi}}}=\\dfrac{1}{1+e^{-(b*X_{newi})}}$\n",
    "\n",
    "$ex=b*X_{newi}=X_{new}*beta$"
   ]
  },
  {
   "cell_type": "code",
   "execution_count": 7,
   "metadata": {},
   "outputs": [
    {
     "name": "stdout",
     "output_type": "stream",
     "text": [
      "pi shape:(4119, 1)\n",
      "[[0.5]\n",
      " [0.5]\n",
      " [0.5]\n",
      " [0.5]\n",
      " [0.5]]\n"
     ]
    }
   ],
   "source": [
    "ex=X_new.dot(beta)\n",
    "pi=np.exp(ex)/(1+np.exp(ex))\n",
    "print(f\"pi shape:{pi.shape}\")\n",
    "print(pi[:5])"
   ]
  },
  {
   "cell_type": "code",
   "execution_count": 8,
   "metadata": {},
   "outputs": [
    {
     "name": "stdout",
     "output_type": "stream",
     "text": [
      "(4119, 1)\n",
      "[[0.5]\n",
      " [0.5]\n",
      " [0.5]\n",
      " [0.5]\n",
      " [0.5]]\n"
     ]
    }
   ],
   "source": [
    "def logitprob(X,beta):\n",
    "    ex=X.dot(beta)\n",
    "    with np.errstate(divide='ignore', invalid='ignore'):\n",
    "        pi=np.exp(ex)/(1+np.exp(ex))\n",
    "    return pi   \n",
    "\n",
    "pi=logitprob(X_new,beta)\n",
    "print(pi.shape)\n",
    "print(pi[:5])"
   ]
  },
  {
   "cell_type": "code",
   "execution_count": 9,
   "metadata": {},
   "outputs": [
    {
     "name": "stdout",
     "output_type": "stream",
     "text": [
      "(4119, 4119)\n"
     ]
    }
   ],
   "source": [
    "#W is a diagonal matrix containing the product of probabilities in the diagonal.\n",
    "W=np.zeros(len(pi)*len(pi)).reshape(len(pi),len(pi))\n",
    "print(W.shape)\n",
    "\n",
    "for i in range(len(pi)):\n",
    "        #print (i)\n",
    "        W[i,i]=pi[i]*(1-pi[i])\n",
    "        W[i,i].astype(float)"
   ]
  },
  {
   "cell_type": "code",
   "execution_count": 10,
   "metadata": {},
   "outputs": [
    {
     "data": {
      "text/plain": [
       "array([[0.25, 0.  , 0.  , ..., 0.  , 0.  , 0.  ],\n",
       "       [0.  , 0.25, 0.  , ..., 0.  , 0.  , 0.  ],\n",
       "       [0.  , 0.  , 0.25, ..., 0.  , 0.  , 0.  ],\n",
       "       [0.  , 0.  , 0.  , ..., 0.  , 0.  , 0.  ],\n",
       "       [0.  , 0.  , 0.  , ..., 0.  , 0.  , 0.  ]])"
      ]
     },
     "execution_count": 10,
     "metadata": {},
     "output_type": "execute_result"
    }
   ],
   "source": [
    "W[:5]"
   ]
  },
  {
   "cell_type": "code",
   "execution_count": 11,
   "metadata": {},
   "outputs": [],
   "source": [
    "def findW(pi):\n",
    "    W=np.zeros(len(pi)*len(pi)).reshape(len(pi),len(pi))\n",
    "    for i in range(len(pi)):\n",
    "        #print (i)\n",
    "        W[i,i]=pi[i]*(1-pi[i])\n",
    "        W[i,i].astype(float)\n",
    "    return W"
   ]
  },
  {
   "cell_type": "code",
   "execution_count": 12,
   "metadata": {
    "scrolled": true
   },
   "outputs": [
    {
     "data": {
      "text/plain": [
       "array([[0.25, 0.  , 0.  , ..., 0.  , 0.  , 0.  ],\n",
       "       [0.  , 0.25, 0.  , ..., 0.  , 0.  , 0.  ],\n",
       "       [0.  , 0.  , 0.25, ..., 0.  , 0.  , 0.  ],\n",
       "       [0.  , 0.  , 0.  , ..., 0.  , 0.  , 0.  ],\n",
       "       [0.  , 0.  , 0.  , ..., 0.  , 0.  , 0.  ]])"
      ]
     },
     "execution_count": 12,
     "metadata": {},
     "output_type": "execute_result"
    }
   ],
   "source": [
    "W=findW(pi)\n",
    "W[:5]"
   ]
  },
  {
   "cell_type": "code",
   "execution_count": 15,
   "metadata": {},
   "outputs": [
    {
     "name": "stdout",
     "output_type": "stream",
     "text": [
      "(4119, 1)\n",
      "(13, 4119)\n",
      "(4119, 1)\n"
     ]
    }
   ],
   "source": [
    "Y=np.array(Y).reshape(Y.shape[0],1)\n",
    "print(Y.shape)\n",
    "print(X_new.T.shape)\n",
    "print((Y-pi).shape)"
   ]
  },
  {
   "cell_type": "markdown",
   "metadata": {},
   "source": [
    "### Revisit functions\n",
    "\n",
    "#### The first derivation of the Log likelihood function: $X(Y-P)$\n",
    "\n",
    "#### The second derivation of the Log likelihood function: $XWX^{T}$\n",
    "\n",
    "W is a diagonal matrix containing the product of probabilities in the diagonal.\n",
    "\n",
    "#### Use the Newton-Raphson method to update the beta coefficients (b) by adding root differences\n",
    "\n",
    "root differences: $\\Delta b=(XWX^{t})^{-1}X(Y-P)$\n",
    "\n",
    "updated b: $b=b+\\Delta b$"
   ]
  },
  {
   "cell_type": "code",
   "execution_count": 16,
   "metadata": {},
   "outputs": [
    {
     "name": "stdout",
     "output_type": "stream",
     "text": [
      "shape of first derivation:(13, 1)\n",
      "shape of second derivation:(13, 13)\n",
      "root diff shape:(13, 1)\n",
      "beta shape: (13, 1)\n"
     ]
    }
   ],
   "source": [
    "# first derivation\n",
    "f_x=(X_new.T).dot(Y-pi)\n",
    "print(f\"shape of first derivation:{f_x.shape}\")\n",
    "\n",
    "#second deriation\n",
    "fx=X_new.T.dot(W).dot(X_new)\n",
    "print(f\"shape of second derivation:{fx.shape}\")\n",
    "\n",
    "root_diff=np.linalg.inv(fx).dot(f_x)\n",
    "print(f\"root diff shape:{root_diff.shape}\")\n",
    "beta=beta+root_diff\n",
    "print(f\"beta shape: {beta.shape}\")\n",
    "iter_i=np.sum(root_diff*root_diff)\n",
    "#root_diff=np.array((np.linalg.inv(np.matrix(np.transpose(X_new))*np.matrix(W)*\n",
    "#                 np.matrix(X_new)))*(np.transpose(np.matrix(X_new))*np.matrix(Y-np.transpose(pi)).transpose()))"
   ]
  },
  {
   "cell_type": "code",
   "execution_count": 17,
   "metadata": {},
   "outputs": [],
   "source": [
    "#Iterations to update beta\n",
    "nrow=np.shape(X)[0]\n",
    "inter=np.ones(nrow).reshape(nrow,1)\n",
    "X_new=np.append(X,inter,axis=1)\n",
    "ncol=np.shape(X_new)[1]\n",
    "beta=np.zeros(ncol).reshape(ncol,1)\n",
    "root_diff=np.array(range(1,ncol+1)).reshape(ncol,1)\n",
    "\n",
    "iter_i=10000\n",
    "limit=0.001\n",
    "while(iter_i>limit):\n",
    "    #print (iter_i, limit)\n",
    "    pi=logitprob(X_new,beta)\n",
    "    #print(pi)\n",
    "    W=findW(pi)\n",
    "    fx=X_new.T.dot(W).dot(X_new)\n",
    "    f_x=(X_new.T).dot(Y-pi)\n",
    "    root_diff=np.linalg.inv(fx).dot(f_x)\n",
    "    beta=beta+root_diff\n",
    "    iter_i=np.sum(root_diff*root_diff)"
   ]
  },
  {
   "cell_type": "code",
   "execution_count": 18,
   "metadata": {},
   "outputs": [
    {
     "data": {
      "text/plain": [
       "array([[ 0.37732729],\n",
       "       [-0.4972556 ],\n",
       "       [-0.37886464],\n",
       "       [-0.38193425],\n",
       "       [ 1.13613091],\n",
       "       [-0.75649316],\n",
       "       [ 0.47841658],\n",
       "       [-0.72036914],\n",
       "       [ 1.42965343],\n",
       "       [ 0.5457527 ],\n",
       "       [ 0.41053715],\n",
       "       [ 1.09602378],\n",
       "       [-0.65923752]])"
      ]
     },
     "execution_count": 18,
     "metadata": {},
     "output_type": "execute_result"
    }
   ],
   "source": [
    "beta"
   ]
  },
  {
   "cell_type": "code",
   "execution_count": 21,
   "metadata": {},
   "outputs": [],
   "source": [
    "def logitprob(X,beta):\n",
    "    ex=X.dot(beta)\n",
    "    with np.errstate(divide='ignore', invalid='ignore'):\n",
    "        pi=np.exp(ex)/(1+np.exp(ex))\n",
    "    return pi   \n",
    "\n",
    "def findW(pi):\n",
    "    W=np.zeros(len(pi)*len(pi)).reshape(len(pi),len(pi))\n",
    "    for i in range(len(pi)):\n",
    "        #print (i)\n",
    "        W[i,i]=pi[i]*(1-pi[i])\n",
    "        W[i,i].astype(float)\n",
    "    return W\n",
    "\n",
    "def logistic(X,Y,limit):\n",
    "    nrow=np.shape(X)[0]\n",
    "    bias=np.ones(nrow).reshape(nrow,1)\n",
    "    X_new=np.append(X,bias,axis=1)\n",
    "    ncol=np.shape(X_new)[1]\n",
    "    beta=np.zeros(ncol).reshape(ncol,1)\n",
    "    root_diff=np.array(range(1,ncol+1)).reshape(ncol,1)\n",
    "    #print(f\"original root diff:{root_diff}\")\n",
    "    iter_i=10000\n",
    "    while(iter_i>limit):\n",
    "        #print (iter_i, limit)\n",
    "        pi=logitprob(X_new,beta)\n",
    "        #print(pi)\n",
    "        W=findW(pi)\n",
    "        fx=X_new.T.dot(W).dot(X_new)\n",
    "        f_x=(X_new.T).dot(Y-pi)\n",
    "        root_diff=np.linalg.inv(fx).dot(f_x)\n",
    "        beta=beta+root_diff\n",
    "        iter_i=np.sum(root_diff*root_diff)\n",
    "    return beta"
   ]
  },
  {
   "cell_type": "code",
   "execution_count": 22,
   "metadata": {},
   "outputs": [
    {
     "data": {
      "text/plain": [
       "array([[ 0.37732729],\n",
       "       [-0.4972556 ],\n",
       "       [-0.37886464],\n",
       "       [-0.38193425],\n",
       "       [ 1.13613091],\n",
       "       [-0.75649316],\n",
       "       [ 0.47841658],\n",
       "       [-0.72036914],\n",
       "       [ 1.42965343],\n",
       "       [ 0.5457527 ],\n",
       "       [ 0.41053715],\n",
       "       [ 1.09602378],\n",
       "       [-0.65923752]])"
      ]
     },
     "execution_count": 22,
     "metadata": {},
     "output_type": "execute_result"
    }
   ],
   "source": [
    "beta=logistic(X,Y,0.0001)\n",
    "beta"
   ]
  },
  {
   "cell_type": "code",
   "execution_count": 23,
   "metadata": {},
   "outputs": [
    {
     "name": "stdout",
     "output_type": "stream",
     "text": [
      "Optimization terminated successfully.\n",
      "         Current function value: 0.276588\n",
      "         Iterations 7\n",
      "                           Logit Regression Results                           \n",
      "==============================================================================\n",
      "Dep. Variable:                      y   No. Observations:                 4119\n",
      "Model:                          Logit   Df Residuals:                     4106\n",
      "Method:                           MLE   Df Model:                           12\n",
      "Date:                Mon, 06 Nov 2023   Pseudo R-squ.:                  0.1993\n",
      "Time:                        11:37:41   Log-Likelihood:                -1139.3\n",
      "converged:                       True   LL-Null:                       -1422.9\n",
      "Covariance Type:            nonrobust   LLR p-value:                1.007e-113\n",
      "==============================================================================\n",
      "                 coef    std err          z      P>|z|      [0.025      0.975]\n",
      "------------------------------------------------------------------------------\n",
      "x1             0.3773      0.142      2.660      0.008       0.099       0.655\n",
      "x2            -0.4973      0.038    -12.982      0.000      -0.572      -0.422\n",
      "x3            -0.3789      0.378     -1.003      0.316      -1.119       0.361\n",
      "x4            -0.3819      0.324     -1.177      0.239      -1.018       0.254\n",
      "x5             1.1361      0.297      3.821      0.000       0.553       1.719\n",
      "x6            -0.7565      0.254     -2.983      0.003      -1.254      -0.259\n",
      "x7             0.4784      0.286      1.674      0.094      -0.082       1.038\n",
      "x8            -0.7204      0.147     -4.892      0.000      -1.009      -0.432\n",
      "x9             1.4297      0.327      4.373      0.000       0.789       2.070\n",
      "x10            0.5458      0.174      3.133      0.002       0.204       0.887\n",
      "x11            0.4105      0.185      2.221      0.026       0.048       0.773\n",
      "x12            1.0960      0.474      2.312      0.021       0.167       2.025\n",
      "const         -0.6592      0.146     -4.508      0.000      -0.946      -0.373\n",
      "==============================================================================\n"
     ]
    }
   ],
   "source": [
    "# Validated by python package\n",
    "import statsmodels.api as sm\n",
    "nrow=np.shape(X)[0]\n",
    "bias=np.ones(nrow).reshape(nrow,1)\n",
    "X_new=np.append(X,bias,axis=1)\n",
    "logit_model=sm.Logit(Y,X_new)\n",
    "result=logit_model.fit()\n",
    "print(result.summary())"
   ]
  },
  {
   "cell_type": "markdown",
   "metadata": {},
   "source": [
    "### Test in SAS\n",
    "```\n",
    "proc logistic data=bank descending;\n",
    "model y = previous euribor3m job_entrepreneur job_self_employed poutcome_success poutcome_failure\tmonth_oct month_may   month_mar month_jun month_jul month_dec;\n",
    "run;\n",
    "\n",
    "                            The LOGISTIC Procedure\n",
    "\n",
    "                  Analysis of Maximum Likelihood Estimates\n",
    "\n",
    "                                        Standard          Wald\n",
    " Parameter            DF    Estimate       Error    Chi-Square    Pr > ChiSq\n",
    "\n",
    " Intercept             1     -0.6593      0.1462       20.3229        <.0001\n",
    " previous              1      0.3773      0.1418        7.0770        0.0078\n",
    " euribor3m             1     -0.4972      0.0383      168.5335        <.0001\n",
    " job_entrepreneur      1     -0.3788      0.3775        1.0069        0.3157\n",
    " job_self_employed     1     -0.3818      0.3244        1.3849        0.2393\n",
    " poutcome_success      1      1.1357      0.2973       14.5908        0.0001\n",
    " poutcome_failure      1     -0.7565      0.2536        8.8996        0.0029\n",
    " month_oct             1      0.4784      0.2857        2.8028        0.0941\n",
    " month_may             1     -0.7203      0.1473       23.9264        <.0001\n",
    " month_mar             1      1.4295      0.3270       19.1165        <.0001\n",
    " month_jun             1      0.5457      0.1742        9.8130        0.0017\n",
    " month_jul             1      0.4105      0.1849        4.9297        0.0264\n",
    " month_dec             1      1.0959      0.4740        5.3448        0.0208\n",
    "```\n"
   ]
  },
  {
   "cell_type": "code",
   "execution_count": 83,
   "metadata": {},
   "outputs": [
    {
     "name": "stdout",
     "output_type": "stream",
     "text": [
      "coefficents:[[ 0.37714473 -0.49724998 -0.37864927 -0.38185051  1.13630339 -0.75609796\n",
      "   0.47806094 -0.72061236  1.42986953  0.54556971  0.41036698  1.09635692]]\n",
      "intercept:[-0.65916261]\n",
      "accuracy:0.9019179412478757\n"
     ]
    }
   ],
   "source": [
    "# test in sklearn\n",
    "from sklearn import linear_model\n",
    "from sklearn import metrics\n",
    "clf1 = linear_model.LogisticRegression(penalty='none',max_iter=1000)\n",
    "#clf1 = linear_model.LogisticRegression(penalty='l2',solver='liblinear',max_iter=1000)\n",
    "#clf1 = linear_model.LogisticRegression(penalty='l1',solver='liblinear',max_iter=1000)\n",
    "y=Y.ravel()\n",
    "clf1.fit(X, y)\n",
    "accuracy_score=clf1.score(X, y)\n",
    "# y_pred=clf1.predict(X)\n",
    "# print(np.unique(y_pred))\n",
    "print(f\"coefficents:{clf1.coef_}\")\n",
    "print(f\"intercept:{clf1.intercept_}\")\n",
    "print(f\"accuracy:{accuracy_score}\")"
   ]
  },
  {
   "cell_type": "markdown",
   "metadata": {},
   "source": [
    "#### Caculate accuracy"
   ]
  },
  {
   "cell_type": "code",
   "execution_count": 85,
   "metadata": {},
   "outputs": [
    {
     "name": "stdout",
     "output_type": "stream",
     "text": [
      "Manually caculated accuracy: 0.9019179412478757\n",
      "clf1: 0.9019179412478757\n"
     ]
    }
   ],
   "source": [
    "probs = clf1.predict_proba(X)\n",
    "prob = probs[:,1]\n",
    "prob2=logitprob(X_new,beta)\n",
    "\n",
    "def accur(prob):\n",
    "    prob=probs[:,1]\n",
    "    prob_df=pd.DataFrame(prob)\n",
    "    prob_df['predict']=np.where(prob_df[0]>=0.5,1,0)\n",
    "    prob_df['actual']=y\n",
    "    true_predic=sum(prob_df['predict']==prob_df['actual'])\n",
    "    accuracy=true_predic/y.shape[0]\n",
    "    return accuracy\n",
    "\n",
    "#accuracy_rate=metrics.accuracy_score(prob_df['actual'], y_pred, normalize=False)/y.shape[0]\n",
    "print(f\"Manually caculated accuracy: {accur(prob2)}\")\n",
    "print(f\"clf1: {accur(prob)}\")"
   ]
  },
  {
   "cell_type": "markdown",
   "metadata": {},
   "source": [
    "## ROC curve (Receiver Operating Characteristic) and AUC (Area Under the Curve)\n",
    "\n",
    "The ROC curve are depicted by caculating the Sensitivity and FPR at various probility threshold levels and ploting against each other.\n",
    "\n",
    "Sensitivy: True positive/(False negative+ True Positive)=True positive/Actual positive\n",
    "\n",
    "1-Specificity (FPR): False positive/(True negative+False positive)=False positive/Acutal negative\n",
    "\n",
    "Diagonal line represent a random guess.If the ROC curve lies above the diagonal line indicating a better prediction than a random guess, if it lies below the dignoal line, the model provide worse prediction than a random guess."
   ]
  },
  {
   "cell_type": "code",
   "execution_count": 81,
   "metadata": {},
   "outputs": [
    {
     "data": {
      "text/plain": [
       "0.7825297956558429"
      ]
     },
     "execution_count": 81,
     "metadata": {},
     "output_type": "execute_result"
    }
   ],
   "source": [
    "probs = clf1.predict_proba(X)\n",
    "prob=probs[:,1]\n",
    "FPR, Sensitivity,_  = metrics.roc_curve(y, prob)\n",
    "auc = metrics.auc(FPR,Sensitivity)\n",
    "auc"
   ]
  },
  {
   "cell_type": "code",
   "execution_count": 86,
   "metadata": {},
   "outputs": [
    {
     "data": {
      "text/plain": [
       "Text(0.5, 1.0, 'ROC Curve w/AUC=0.78')"
      ]
     },
     "execution_count": 86,
     "metadata": {},
     "output_type": "execute_result"
    },
    {
     "data": {
      "image/png": "[encoded data removed]",
      "text/plain": [
       "<Figure size 432x288 with 1 Axes>"
      ]
     },
     "metadata": {
      "needs_background": "light"
     },
     "output_type": "display_data"
    }
   ],
   "source": [
    "plt.plot(FPR,Sensitivity,marker='o',linestyle='--',color='r',markersize=0.5)\n",
    "x=[i*0.01 for i in range(100)]\n",
    "y=[i*0.01 for i in range(100)]\n",
    "plt.plot(x,y)\n",
    "plt.xlabel('(1-Specificity)')\n",
    "plt.ylabel('Sensitivity')\n",
    "plt.title(f\"ROC Curve w/AUC={round(auc,2)}\")"
   ]
  },
  {
   "cell_type": "markdown",
   "metadata": {},
   "source": [
    "### Note:\n",
    " The model built before does not fit in training data and test in testing data. In reality, accuracy and ROC should be tested in testing data"
   ]
  }
 ],
 "metadata": {
  "kernelspec": {
   "display_name": "Python 3 (ipykernel)",
   "language": "python",
   "name": "python3"
  },
  "language_info": {
   "codemirror_mode": {
    "name": "ipython",
    "version": 3
   },
   "file_extension": ".py",
   "mimetype": "text/x-python",
   "name": "python",
   "nbconvert_exporter": "python",
   "pygments_lexer": "ipython3",
   "version": "3.9.12"
  }
 },
 "nbformat": 4,
 "nbformat_minor": 4
}
